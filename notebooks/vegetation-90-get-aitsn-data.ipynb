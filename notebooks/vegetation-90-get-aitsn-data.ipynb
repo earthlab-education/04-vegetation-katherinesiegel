{
 "cells": [
  {
   "cell_type": "markdown",
   "id": "f1a174f2",
   "metadata": {},
   "source": [
    "# Load libraries"
   ]
  },
  {
   "cell_type": "code",
   "execution_count": 13,
   "id": "e705454f",
   "metadata": {},
   "outputs": [],
   "source": [
    "import os\n",
    "from pathlib import Path\n",
    "import geopandas as gpd\n",
    "import pandas as pd"
   ]
  },
  {
   "cell_type": "markdown",
   "id": "3bfb81e9",
   "metadata": {},
   "source": [
    "# STEP 0: Make data folder"
   ]
  },
  {
   "cell_type": "code",
   "execution_count": 14,
   "id": "6dbf3992",
   "metadata": {},
   "outputs": [],
   "source": [
    "### create data directory\n",
    "data_dir = os.path.join(\n",
    "    \n",
    "    ### home directory\n",
    "    pathlib.Path.home(),\n",
    "\n",
    "    ### make folders\n",
    "    'earth-analytics',\n",
    "    'data',\n",
    "\n",
    "    ### project directory for this assignment\n",
    "    'vegetation'\n",
    ")\n",
    "\n",
    "## make the path\n",
    "os.makedirs(data_dir, exist_ok = True)"
   ]
  },
  {
   "cell_type": "markdown",
   "id": "125c9f30",
   "metadata": {},
   "source": [
    "# Step 1: Get vector data for Gila Reservation\n",
    "A note on terminology: We realize not everyone is cool with the term \"American Indian,\" especially when used by people who aren't Tribal members. At the same time, others feel that it is important to reclaim \"Indian,\" and more importantly that's the term a lot of Tribal people use every day. In this case, we're stuck because of how this dataset is named in the Census boundary datasets...however, when sharing your work or publishing your own data, it's important to include local communities in teh area you're studying, in language choices but also _throughout_ your project.\n",
    "\n",
    "We'll be downloading the boundaries of our study area using a web browser. The data source, data.gov, has placed restrictions on programmatic downloads (downloads using code). There are a number of ways to attempt to get around these restrictions, but in this case we've found it's just not worth the time and effort. Follow the steps below to download the data and put it somewhere that your Python code can find it.\n",
    "\n",
    "## Step 1A: Open up the data catalog\n",
    "Click this link: https://catalog.data.gov. You can also open your web browser and type in the url if you prefer.\n",
    "\n",
    "## Step 1B: Search for the dataset\n",
    "In the search bar, search for \"American Indian Tribal Subdivisions 2020.\" These census files are updated regularly at the time of the census, so we want to make sure we have the most recent version. The most recent census was in 2020.\n",
    "\n",
    "## Step 1C: Open the dataset page\n",
    "Find the “TIGER/Line Shapefile, 2020, Nation, U.S., American Indian Tribal Subdivisions” dataset in the search results, and click on the title to go to the dataset page. \n",
    "\n",
    "## Step 1D: Download\n",
    "Next, scroll down to the available files to download. Click on the Download button for the .zip file -- this will be the easiest one for Python to open.\n",
    "\n",
    "## Step 1E: Move the file\n",
    "We now need to locate the file you downloaded and put it somewhere Python can find it. Ideally, you should put the downloaded .zip file in your project directory. Most web browsers will pop up with some kind of button to open your File Explorer (Windows) or Finder (Mac) in the location of your downloaded files. You can also check in your user home directory for a Downloads folder. If none of that works, try opening up your File Explorer/Finder and searching for the file.\n",
    "\n",
    "First, you'll need to get the filepath for the downloaded data:"
   ]
  },
  {
   "cell_type": "code",
   "execution_count": 15,
   "id": "8677f5b7",
   "metadata": {},
   "outputs": [
    {
     "name": "stdout",
     "output_type": "stream",
     "text": [
      "Found file: C:\\Users\\kjsie\\Downloads\\tl_2020_us_aitsn.zip\n"
     ]
    },
    {
     "data": {
      "text/plain": [
       "'C:\\\\Users\\\\kjsie\\\\Downloads\\\\tl_2020_us_aitsn.zip'"
      ]
     },
     "execution_count": 15,
     "metadata": {},
     "output_type": "execute_result"
    }
   ],
   "source": [
    "### get the file path for the downloaded zip file\n",
    "\n",
    "### make a file path for your downloads folder\n",
    "downloads = os.path.join(os.path.expanduser(\"~\"), \"Downloads\")\n",
    "\n",
    "### make a placeholder (empty) source path to save the file path into\n",
    "source_path = None  \n",
    "\n",
    "### find the zip file\n",
    "for f in os.listdir(downloads):\n",
    "    if \"tl_2020_us_aitsn\" in f.lower():\n",
    "        source_path = os.path.join(downloads, f)\n",
    "        print(\"Found file:\", source_path)\n",
    "\n",
    "        ### use \"break\" to stop after you find the first file that matches\n",
    "        break  \n",
    "\n",
    "source_path"
   ]
  },
  {
   "cell_type": "markdown",
   "id": "bd831875",
   "metadata": {},
   "source": [
    "Then you can use code to copy the zip file into your data directory:"
   ]
  },
  {
   "cell_type": "code",
   "execution_count": 10,
   "id": "57221ff4",
   "metadata": {},
   "outputs": [
    {
     "data": {
      "text/plain": [
       "'C:\\\\Users\\\\kjsie\\\\earth-analytics\\\\data\\\\vegetation\\\\tl_2020_us_aitsn.zip'"
      ]
     },
     "execution_count": 10,
     "metadata": {},
     "output_type": "execute_result"
    }
   ],
   "source": [
    "### open shutil package\n",
    "import shutil\n",
    "\n",
    "### copy the file to your data directory\n",
    "shutil.copy(source_path, data_dir)"
   ]
  },
  {
   "cell_type": "markdown",
   "id": "327954b7",
   "metadata": {},
   "source": [
    "## Step 1F: Unzip the file (optional)\n",
    "\n",
    "You can optionally unzip the file. `geopandas` will be able to read this particular shapefile from a `.zip` archive, but some other files may need to be unzipped. We’ll first define the path in Python, and then use bash to unzip. You can also unzip with the `Python` `zipfile` library, but it is more complicated than we need right now."
   ]
  },
  {
   "cell_type": "code",
   "execution_count": 16,
   "id": "7e66732d",
   "metadata": {},
   "outputs": [],
   "source": [
    "### identify file name\n",
    "filename = \"tl_2020_us_aitsn\"\n",
    "\n",
    "### identify location of zipped file\n",
    "zip_path = Path(data_dir) / f\"{filename}.zip\"\n",
    "\n",
    "### identify where you want the unzipped files to go\n",
    "unzip_dir = Path(data_dir) / filename"
   ]
  },
  {
   "cell_type": "markdown",
   "id": "292251fd",
   "metadata": {},
   "source": [
    "Now we can unzip the file using the package zipfile. \n",
    "\n",
    "Nate's demo uses bash commands, but I'm switching to use the zipfile package because it's interoperable across operating systems."
   ]
  },
  {
   "cell_type": "code",
   "execution_count": 18,
   "id": "fb98dc9f",
   "metadata": {},
   "outputs": [],
   "source": [
    "### load zipfile package\n",
    "import zipfile\n",
    "\n",
    "### make sure paths are all Path objects\n",
    "zip_path = Path(zip_path)\n",
    "unzip_dir = Path(unzip_dir)\n",
    "\n",
    "### unzip the file\n",
    "with zipfile.ZipFile(zip_path, 'r') as zip_ref:\n",
    "    zip_ref.extractall(unzip_dir)"
   ]
  },
  {
   "cell_type": "markdown",
   "id": "5d607925",
   "metadata": {},
   "source": [
    "## Step 1E: Open boundary in Python\n",
    "\n",
    "<link rel=\"stylesheet\" type=\"text/css\" href=\"./assets/styles.css\"><div class=\"callout callout-style-default callout-titled callout-task\"><div class=\"callout-header\"><div class=\"callout-icon-container\"><i class=\"callout-icon\"></i></div><div class=\"callout-title-container flex-fill\">Try It</div></div><div class=\"callout-body-container callout-body\"><ol type=\"1\">\n",
    "<li>Replace <code>\"directory-name\"</code> with the actual name of the\n",
    "file you downloaded (or the folder you unzipped to) and put in your\n",
    "project directory.</li>\n",
    "<li>Modify the code below to use <strong>descriptive variable\n",
    "names</strong>. Feel free to refer back to previous challenges for\n",
    "similar code!</li>\n",
    "<li>Add a line of code to open up the data path. What library and\n",
    "function do you need to open this type of data?</li>\n",
    "<li>Add some code to check your data, either by viewing it or making a\n",
    "quick plot. Does it look like what you expected?</li>\n",
    "</ol></div></div>"
   ]
  },
  {
   "cell_type": "code",
   "execution_count": 23,
   "id": "ab7b1148",
   "metadata": {},
   "outputs": [
    {
     "data": {
      "text/html": [
       "<div>\n",
       "<style scoped>\n",
       "    .dataframe tbody tr th:only-of-type {\n",
       "        vertical-align: middle;\n",
       "    }\n",
       "\n",
       "    .dataframe tbody tr th {\n",
       "        vertical-align: top;\n",
       "    }\n",
       "\n",
       "    .dataframe thead th {\n",
       "        text-align: right;\n",
       "    }\n",
       "</style>\n",
       "<table border=\"1\" class=\"dataframe\">\n",
       "  <thead>\n",
       "    <tr style=\"text-align: right;\">\n",
       "      <th></th>\n",
       "      <th>AIANNHCE</th>\n",
       "      <th>TRSUBCE</th>\n",
       "      <th>TRSUBNS</th>\n",
       "      <th>GEOID</th>\n",
       "      <th>NAME</th>\n",
       "      <th>NAMELSAD</th>\n",
       "      <th>LSAD</th>\n",
       "      <th>CLASSFP</th>\n",
       "      <th>MTFCC</th>\n",
       "      <th>FUNCSTAT</th>\n",
       "      <th>ALAND</th>\n",
       "      <th>AWATER</th>\n",
       "      <th>INTPTLAT</th>\n",
       "      <th>INTPTLON</th>\n",
       "      <th>geometry</th>\n",
       "    </tr>\n",
       "  </thead>\n",
       "  <tbody>\n",
       "    <tr>\n",
       "      <th>0</th>\n",
       "      <td>2430</td>\n",
       "      <td>653</td>\n",
       "      <td>02419073</td>\n",
       "      <td>2430653</td>\n",
       "      <td>Red Valley</td>\n",
       "      <td>Red Valley Chapter</td>\n",
       "      <td>T2</td>\n",
       "      <td>D7</td>\n",
       "      <td>G2300</td>\n",
       "      <td>A</td>\n",
       "      <td>922036695</td>\n",
       "      <td>195247</td>\n",
       "      <td>+36.6294607</td>\n",
       "      <td>-109.0550394</td>\n",
       "      <td>POLYGON ((-109.2827 36.64644, -109.28181 36.65...</td>\n",
       "    </tr>\n",
       "    <tr>\n",
       "      <th>1</th>\n",
       "      <td>2430</td>\n",
       "      <td>665</td>\n",
       "      <td>02419077</td>\n",
       "      <td>2430665</td>\n",
       "      <td>Rock Point</td>\n",
       "      <td>Rock Point Chapter</td>\n",
       "      <td>T2</td>\n",
       "      <td>D7</td>\n",
       "      <td>G2300</td>\n",
       "      <td>A</td>\n",
       "      <td>720360268</td>\n",
       "      <td>88806</td>\n",
       "      <td>+36.6598701</td>\n",
       "      <td>-109.6166836</td>\n",
       "      <td>POLYGON ((-109.85922 36.49859, -109.85521 36.5...</td>\n",
       "    </tr>\n",
       "    <tr>\n",
       "      <th>2</th>\n",
       "      <td>2430</td>\n",
       "      <td>675</td>\n",
       "      <td>02419081</td>\n",
       "      <td>2430675</td>\n",
       "      <td>Rough Rock</td>\n",
       "      <td>Rough Rock Chapter</td>\n",
       "      <td>T2</td>\n",
       "      <td>D7</td>\n",
       "      <td>G2300</td>\n",
       "      <td>A</td>\n",
       "      <td>364475668</td>\n",
       "      <td>216144</td>\n",
       "      <td>+36.3976971</td>\n",
       "      <td>-109.7695183</td>\n",
       "      <td>POLYGON ((-109.93053 36.40672, -109.92923 36.4...</td>\n",
       "    </tr>\n",
       "    <tr>\n",
       "      <th>3</th>\n",
       "      <td>2430</td>\n",
       "      <td>325</td>\n",
       "      <td>02418975</td>\n",
       "      <td>2430325</td>\n",
       "      <td>Indian Wells</td>\n",
       "      <td>Indian Wells Chapter</td>\n",
       "      <td>T2</td>\n",
       "      <td>D7</td>\n",
       "      <td>G2300</td>\n",
       "      <td>A</td>\n",
       "      <td>717835323</td>\n",
       "      <td>133795</td>\n",
       "      <td>+35.3248534</td>\n",
       "      <td>-110.0855000</td>\n",
       "      <td>POLYGON ((-110.24222 35.36327, -110.24215 35.3...</td>\n",
       "    </tr>\n",
       "    <tr>\n",
       "      <th>4</th>\n",
       "      <td>2430</td>\n",
       "      <td>355</td>\n",
       "      <td>02418983</td>\n",
       "      <td>2430355</td>\n",
       "      <td>Kayenta</td>\n",
       "      <td>Kayenta Chapter</td>\n",
       "      <td>T2</td>\n",
       "      <td>D7</td>\n",
       "      <td>G2300</td>\n",
       "      <td>A</td>\n",
       "      <td>1419241065</td>\n",
       "      <td>1982848</td>\n",
       "      <td>+36.6884391</td>\n",
       "      <td>-110.3045616</td>\n",
       "      <td>POLYGON ((-110.56817 36.73489, -110.56603 36.7...</td>\n",
       "    </tr>\n",
       "    <tr>\n",
       "      <th>...</th>\n",
       "      <td>...</td>\n",
       "      <td>...</td>\n",
       "      <td>...</td>\n",
       "      <td>...</td>\n",
       "      <td>...</td>\n",
       "      <td>...</td>\n",
       "      <td>...</td>\n",
       "      <td>...</td>\n",
       "      <td>...</td>\n",
       "      <td>...</td>\n",
       "      <td>...</td>\n",
       "      <td>...</td>\n",
       "      <td>...</td>\n",
       "      <td>...</td>\n",
       "      <td>...</td>\n",
       "    </tr>\n",
       "    <tr>\n",
       "      <th>479</th>\n",
       "      <td>1310</td>\n",
       "      <td>100</td>\n",
       "      <td>02418907</td>\n",
       "      <td>1310100</td>\n",
       "      <td>1</td>\n",
       "      <td>District 1</td>\n",
       "      <td>28</td>\n",
       "      <td>D7</td>\n",
       "      <td>G2300</td>\n",
       "      <td>N</td>\n",
       "      <td>139902197</td>\n",
       "      <td>0</td>\n",
       "      <td>+33.0600842</td>\n",
       "      <td>-111.5806313</td>\n",
       "      <td>POLYGON ((-111.63622 33.11798, -111.63405 33.1...</td>\n",
       "    </tr>\n",
       "    <tr>\n",
       "      <th>480</th>\n",
       "      <td>4290</td>\n",
       "      <td>550</td>\n",
       "      <td>02612186</td>\n",
       "      <td>4290550</td>\n",
       "      <td>Mission Highlands</td>\n",
       "      <td>Mission Highlands</td>\n",
       "      <td>00</td>\n",
       "      <td>D7</td>\n",
       "      <td>G2300</td>\n",
       "      <td>N</td>\n",
       "      <td>6188043</td>\n",
       "      <td>0</td>\n",
       "      <td>+48.0754384</td>\n",
       "      <td>-122.2507432</td>\n",
       "      <td>POLYGON ((-122.27579 48.07128, -122.27578 48.0...</td>\n",
       "    </tr>\n",
       "    <tr>\n",
       "      <th>481</th>\n",
       "      <td>0855</td>\n",
       "      <td>400</td>\n",
       "      <td>02418941</td>\n",
       "      <td>0855400</td>\n",
       "      <td>Fort Thompson</td>\n",
       "      <td>Fort Thompson District</td>\n",
       "      <td>07</td>\n",
       "      <td>D7</td>\n",
       "      <td>G2300</td>\n",
       "      <td>N</td>\n",
       "      <td>535432708</td>\n",
       "      <td>38653364</td>\n",
       "      <td>+44.1559680</td>\n",
       "      <td>-099.4467700</td>\n",
       "      <td>POLYGON ((-99.66452 44.25269, -99.66449 44.255...</td>\n",
       "    </tr>\n",
       "    <tr>\n",
       "      <th>482</th>\n",
       "      <td>0335</td>\n",
       "      <td>300</td>\n",
       "      <td>02784108</td>\n",
       "      <td>0335300</td>\n",
       "      <td>Indian Point</td>\n",
       "      <td>Indian Point Segment</td>\n",
       "      <td>T3</td>\n",
       "      <td>D7</td>\n",
       "      <td>G2300</td>\n",
       "      <td>N</td>\n",
       "      <td>326985</td>\n",
       "      <td>0</td>\n",
       "      <td>+48.0604594</td>\n",
       "      <td>-092.8466753</td>\n",
       "      <td>POLYGON ((-92.85187 48.05944, -92.85186 48.059...</td>\n",
       "    </tr>\n",
       "    <tr>\n",
       "      <th>483</th>\n",
       "      <td>5560</td>\n",
       "      <td>120</td>\n",
       "      <td>02804808</td>\n",
       "      <td>5560120</td>\n",
       "      <td>Cheyenne and Arapaho District 2</td>\n",
       "      <td>Cheyenne and Arapaho District 2</td>\n",
       "      <td>00</td>\n",
       "      <td>D7</td>\n",
       "      <td>G2300</td>\n",
       "      <td>S</td>\n",
       "      <td>4709525489</td>\n",
       "      <td>36177523</td>\n",
       "      <td>+35.7613633</td>\n",
       "      <td>-098.0107463</td>\n",
       "      <td>POLYGON ((-98.61081 35.72524, -98.60732 35.725...</td>\n",
       "    </tr>\n",
       "  </tbody>\n",
       "</table>\n",
       "<p>484 rows × 15 columns</p>\n",
       "</div>"
      ],
      "text/plain": [
       "    AIANNHCE TRSUBCE   TRSUBNS    GEOID                             NAME  \\\n",
       "0       2430     653  02419073  2430653                       Red Valley   \n",
       "1       2430     665  02419077  2430665                       Rock Point   \n",
       "2       2430     675  02419081  2430675                       Rough Rock   \n",
       "3       2430     325  02418975  2430325                     Indian Wells   \n",
       "4       2430     355  02418983  2430355                          Kayenta   \n",
       "..       ...     ...       ...      ...                              ...   \n",
       "479     1310     100  02418907  1310100                                1   \n",
       "480     4290     550  02612186  4290550                Mission Highlands   \n",
       "481     0855     400  02418941  0855400                    Fort Thompson   \n",
       "482     0335     300  02784108  0335300                     Indian Point   \n",
       "483     5560     120  02804808  5560120  Cheyenne and Arapaho District 2   \n",
       "\n",
       "                            NAMELSAD LSAD CLASSFP  MTFCC FUNCSTAT       ALAND  \\\n",
       "0                 Red Valley Chapter   T2      D7  G2300        A   922036695   \n",
       "1                 Rock Point Chapter   T2      D7  G2300        A   720360268   \n",
       "2                 Rough Rock Chapter   T2      D7  G2300        A   364475668   \n",
       "3               Indian Wells Chapter   T2      D7  G2300        A   717835323   \n",
       "4                    Kayenta Chapter   T2      D7  G2300        A  1419241065   \n",
       "..                               ...  ...     ...    ...      ...         ...   \n",
       "479                       District 1   28      D7  G2300        N   139902197   \n",
       "480                Mission Highlands   00      D7  G2300        N     6188043   \n",
       "481           Fort Thompson District   07      D7  G2300        N   535432708   \n",
       "482             Indian Point Segment   T3      D7  G2300        N      326985   \n",
       "483  Cheyenne and Arapaho District 2   00      D7  G2300        S  4709525489   \n",
       "\n",
       "       AWATER     INTPTLAT      INTPTLON  \\\n",
       "0      195247  +36.6294607  -109.0550394   \n",
       "1       88806  +36.6598701  -109.6166836   \n",
       "2      216144  +36.3976971  -109.7695183   \n",
       "3      133795  +35.3248534  -110.0855000   \n",
       "4     1982848  +36.6884391  -110.3045616   \n",
       "..        ...          ...           ...   \n",
       "479         0  +33.0600842  -111.5806313   \n",
       "480         0  +48.0754384  -122.2507432   \n",
       "481  38653364  +44.1559680  -099.4467700   \n",
       "482         0  +48.0604594  -092.8466753   \n",
       "483  36177523  +35.7613633  -098.0107463   \n",
       "\n",
       "                                              geometry  \n",
       "0    POLYGON ((-109.2827 36.64644, -109.28181 36.65...  \n",
       "1    POLYGON ((-109.85922 36.49859, -109.85521 36.5...  \n",
       "2    POLYGON ((-109.93053 36.40672, -109.92923 36.4...  \n",
       "3    POLYGON ((-110.24222 35.36327, -110.24215 35.3...  \n",
       "4    POLYGON ((-110.56817 36.73489, -110.56603 36.7...  \n",
       "..                                                 ...  \n",
       "479  POLYGON ((-111.63622 33.11798, -111.63405 33.1...  \n",
       "480  POLYGON ((-122.27579 48.07128, -122.27578 48.0...  \n",
       "481  POLYGON ((-99.66452 44.25269, -99.66449 44.255...  \n",
       "482  POLYGON ((-92.85187 48.05944, -92.85186 48.059...  \n",
       "483  POLYGON ((-98.61081 35.72524, -98.60732 35.725...  \n",
       "\n",
       "[484 rows x 15 columns]"
      ]
     },
     "execution_count": 23,
     "metadata": {},
     "output_type": "execute_result"
    }
   ],
   "source": [
    "### define boundary path (we've already done this when we unzipped the file)\n",
    "unzip_dir\n",
    "\n",
    "### open the site boundary\n",
    "aitsn_boundary = gpd.read_file(unzip_dir)\n",
    "\n",
    "### check that the data were downloaded correctly\n",
    "aitsn_boundary"
   ]
  },
  {
   "cell_type": "markdown",
   "id": "8c5147e3",
   "metadata": {},
   "source": [
    "# Step 2: Pull out the Gila River subdivisions\n",
    "\n",
    "We'll use the AIANNHCE code for the Gila River (1310).\n",
    "\n",
    "<link rel=\"stylesheet\" type=\"text/css\" href=\"./assets/styles.css\"><div class=\"callout callout-style-default callout-titled callout-task\"><div class=\"callout-header\"><div class=\"callout-icon-container\"><i class=\"callout-icon\"></i></div><div class=\"callout-title-container flex-fill\">Try It</div></div><div class=\"callout-body-container callout-body\"><ol type=\"1\">\n",
    "<li>Replace <code>identifier</code> with the value you found from\n",
    "exploring the interactive map. Make sure that you are using the correct\n",
    "<strong>data type</strong>!</li>\n",
    "<li>Change the plot to have a web tile basemap, and look the way you\n",
    "want it to.</li>\n",
    "</ol></div></div>"
   ]
  },
  {
   "cell_type": "code",
   "execution_count": 26,
   "id": "26090d1a",
   "metadata": {},
   "outputs": [
    {
     "data": {
      "text/html": [
       "<script type=\"esms-options\">{\"shimMode\": true}</script><style>*[data-root-id],\n",
       "*[data-root-id] > * {\n",
       "  box-sizing: border-box;\n",
       "  font-family: var(--jp-ui-font-family);\n",
       "  font-size: var(--jp-ui-font-size1);\n",
       "  color: var(--vscode-editor-foreground, var(--jp-ui-font-color1));\n",
       "}\n",
       "\n",
       "/* Override VSCode background color */\n",
       ".cell-output-ipywidget-background:has(\n",
       "    > .cell-output-ipywidget-background > .lm-Widget > *[data-root-id]\n",
       "  ),\n",
       ".cell-output-ipywidget-background:has(> .lm-Widget > *[data-root-id]) {\n",
       "  background-color: transparent !important;\n",
       "}\n",
       "</style>"
      ]
     },
     "metadata": {},
     "output_type": "display_data"
    },
    {
     "data": {
      "application/javascript": "(function(root) {\n  function now() {\n    return new Date();\n  }\n\n  const force = true;\n  const py_version = '3.6.2'.replace('rc', '-rc.').replace('.dev', '-dev.');\n  const reloading = false;\n  const Bokeh = root.Bokeh;\n\n  // Set a timeout for this load but only if we are not already initializing\n  if (typeof (root._bokeh_timeout) === \"undefined\" || (force || !root._bokeh_is_initializing)) {\n    root._bokeh_timeout = Date.now() + 5000;\n    root._bokeh_failed_load = false;\n  }\n\n  function run_callbacks() {\n    try {\n      root._bokeh_onload_callbacks.forEach(function(callback) {\n        if (callback != null)\n          callback();\n      });\n    } finally {\n      delete root._bokeh_onload_callbacks;\n    }\n    console.debug(\"Bokeh: all callbacks have finished\");\n  }\n\n  function load_libs(css_urls, js_urls, js_modules, js_exports, callback) {\n    if (css_urls == null) css_urls = [];\n    if (js_urls == null) js_urls = [];\n    if (js_modules == null) js_modules = [];\n    if (js_exports == null) js_exports = {};\n\n    root._bokeh_onload_callbacks.push(callback);\n\n    if (root._bokeh_is_loading > 0) {\n      // Don't load bokeh if it is still initializing\n      console.debug(\"Bokeh: BokehJS is being loaded, scheduling callback at\", now());\n      return null;\n    } else if (js_urls.length === 0 && js_modules.length === 0 && Object.keys(js_exports).length === 0) {\n      // There is nothing to load\n      run_callbacks();\n      return null;\n    }\n\n    function on_load() {\n      root._bokeh_is_loading--;\n      if (root._bokeh_is_loading === 0) {\n        console.debug(\"Bokeh: all BokehJS libraries/stylesheets loaded\");\n        run_callbacks()\n      }\n    }\n    window._bokeh_on_load = on_load\n\n    function on_error(e) {\n      const src_el = e.srcElement\n      console.error(\"failed to load \" + (src_el.href || src_el.src));\n    }\n\n    const skip = [];\n    if (window.requirejs) {\n      window.requirejs.config({'packages': {}, 'paths': {}, 'shim': {}});\n      root._bokeh_is_loading = css_urls.length + 0;\n    } else {\n      root._bokeh_is_loading = css_urls.length + js_urls.length + js_modules.length + Object.keys(js_exports).length;\n    }\n\n    const existing_stylesheets = []\n    const links = document.getElementsByTagName('link')\n    for (let i = 0; i < links.length; i++) {\n      const link = links[i]\n      if (link.href != null) {\n        existing_stylesheets.push(link.href)\n      }\n    }\n    for (let i = 0; i < css_urls.length; i++) {\n      const url = css_urls[i];\n      const escaped = encodeURI(url)\n      if (existing_stylesheets.indexOf(escaped) !== -1) {\n        on_load()\n        continue;\n      }\n      const element = document.createElement(\"link\");\n      element.onload = on_load;\n      element.onerror = on_error;\n      element.rel = \"stylesheet\";\n      element.type = \"text/css\";\n      element.href = url;\n      console.debug(\"Bokeh: injecting link tag for BokehJS stylesheet: \", url);\n      document.body.appendChild(element);\n    }    var existing_scripts = []\n    const scripts = document.getElementsByTagName('script')\n    for (let i = 0; i < scripts.length; i++) {\n      var script = scripts[i]\n      if (script.src != null) {\n        existing_scripts.push(script.src)\n      }\n    }\n    for (let i = 0; i < js_urls.length; i++) {\n      const url = js_urls[i];\n      const escaped = encodeURI(url)\n      if (skip.indexOf(escaped) !== -1 || existing_scripts.indexOf(escaped) !== -1) {\n        if (!window.requirejs) {\n          on_load();\n        }\n        continue;\n      }\n      const element = document.createElement('script');\n      element.onload = on_load;\n      element.onerror = on_error;\n      element.async = false;\n      element.src = url;\n      console.debug(\"Bokeh: injecting script tag for BokehJS library: \", url);\n      document.head.appendChild(element);\n    }\n    for (let i = 0; i < js_modules.length; i++) {\n      const url = js_modules[i];\n      const escaped = encodeURI(url)\n      if (skip.indexOf(escaped) !== -1 || existing_scripts.indexOf(escaped) !== -1) {\n        if (!window.requirejs) {\n          on_load();\n        }\n        continue;\n      }\n      var element = document.createElement('script');\n      element.onload = on_load;\n      element.onerror = on_error;\n      element.async = false;\n      element.src = url;\n      element.type = \"module\";\n      console.debug(\"Bokeh: injecting script tag for BokehJS library: \", url);\n      document.head.appendChild(element);\n    }\n    for (const name in js_exports) {\n      const url = js_exports[name];\n      const escaped = encodeURI(url)\n      if (skip.indexOf(escaped) >= 0 || root[name] != null) {\n        if (!window.requirejs) {\n          on_load();\n        }\n        continue;\n      }\n      var element = document.createElement('script');\n      element.onerror = on_error;\n      element.async = false;\n      element.type = \"module\";\n      console.debug(\"Bokeh: injecting script tag for BokehJS library: \", url);\n      element.textContent = `\n      import ${name} from \"${url}\"\n      window.${name} = ${name}\n      window._bokeh_on_load()\n      `\n      document.head.appendChild(element);\n    }\n    if (!js_urls.length && !js_modules.length) {\n      on_load()\n    }\n  };\n\n  function inject_raw_css(css) {\n    const element = document.createElement(\"style\");\n    element.appendChild(document.createTextNode(css));\n    document.body.appendChild(element);\n  }\n\n  const js_urls = [\"https://cdn.holoviz.org/panel/1.5.5/dist/bundled/reactiveesm/es-module-shims@^1.10.0/dist/es-module-shims.min.js\", \"https://cdn.bokeh.org/bokeh/release/bokeh-3.6.2.min.js\", \"https://cdn.bokeh.org/bokeh/release/bokeh-gl-3.6.2.min.js\", \"https://cdn.bokeh.org/bokeh/release/bokeh-widgets-3.6.2.min.js\", \"https://cdn.bokeh.org/bokeh/release/bokeh-tables-3.6.2.min.js\", \"https://cdn.holoviz.org/panel/1.5.5/dist/panel.min.js\"];\n  const js_modules = [];\n  const js_exports = {};\n  const css_urls = [];\n  const inline_js = [    function(Bokeh) {\n      Bokeh.set_log_level(\"info\");\n    },\nfunction(Bokeh) {} // ensure no trailing comma for IE\n  ];\n\n  function run_inline_js() {\n    if ((root.Bokeh !== undefined) || (force === true)) {\n      for (let i = 0; i < inline_js.length; i++) {\n        try {\n          inline_js[i].call(root, root.Bokeh);\n        } catch(e) {\n          if (!reloading) {\n            throw e;\n          }\n        }\n      }\n      // Cache old bokeh versions\n      if (Bokeh != undefined && !reloading) {\n        var NewBokeh = root.Bokeh;\n        if (Bokeh.versions === undefined) {\n          Bokeh.versions = new Map();\n        }\n        if (NewBokeh.version !== Bokeh.version) {\n          Bokeh.versions.set(NewBokeh.version, NewBokeh)\n        }\n        root.Bokeh = Bokeh;\n      }\n    } else if (Date.now() < root._bokeh_timeout) {\n      setTimeout(run_inline_js, 100);\n    } else if (!root._bokeh_failed_load) {\n      console.log(\"Bokeh: BokehJS failed to load within specified timeout.\");\n      root._bokeh_failed_load = true;\n    }\n    root._bokeh_is_initializing = false\n  }\n\n  function load_or_wait() {\n    // Implement a backoff loop that tries to ensure we do not load multiple\n    // versions of Bokeh and its dependencies at the same time.\n    // In recent versions we use the root._bokeh_is_initializing flag\n    // to determine whether there is an ongoing attempt to initialize\n    // bokeh, however for backward compatibility we also try to ensure\n    // that we do not start loading a newer (Panel>=1.0 and Bokeh>3) version\n    // before older versions are fully initialized.\n    if (root._bokeh_is_initializing && Date.now() > root._bokeh_timeout) {\n      // If the timeout and bokeh was not successfully loaded we reset\n      // everything and try loading again\n      root._bokeh_timeout = Date.now() + 5000;\n      root._bokeh_is_initializing = false;\n      root._bokeh_onload_callbacks = undefined;\n      root._bokeh_is_loading = 0\n      console.log(\"Bokeh: BokehJS was loaded multiple times but one version failed to initialize.\");\n      load_or_wait();\n    } else if (root._bokeh_is_initializing || (typeof root._bokeh_is_initializing === \"undefined\" && root._bokeh_onload_callbacks !== undefined)) {\n      setTimeout(load_or_wait, 100);\n    } else {\n      root._bokeh_is_initializing = true\n      root._bokeh_onload_callbacks = []\n      const bokeh_loaded = root.Bokeh != null && (root.Bokeh.version === py_version || (root.Bokeh.versions !== undefined && root.Bokeh.versions.has(py_version)));\n      if (!reloading && !bokeh_loaded) {\n        if (root.Bokeh) {\n          root.Bokeh = undefined;\n        }\n        console.debug(\"Bokeh: BokehJS not loaded, scheduling load and callback at\", now());\n      }\n      load_libs(css_urls, js_urls, js_modules, js_exports, function() {\n        console.debug(\"Bokeh: BokehJS plotting callback run at\", now());\n        run_inline_js();\n      });\n    }\n  }\n  // Give older versions of the autoload script a head-start to ensure\n  // they initialize before we start loading newer version.\n  setTimeout(load_or_wait, 100)\n}(window));",
      "application/vnd.holoviews_load.v0+json": ""
     },
     "metadata": {},
     "output_type": "display_data"
    },
    {
     "data": {
      "application/javascript": "\nif ((window.PyViz === undefined) || (window.PyViz instanceof HTMLElement)) {\n  window.PyViz = {comms: {}, comm_status:{}, kernels:{}, receivers: {}, plot_index: []}\n}\n\n\n    function JupyterCommManager() {\n    }\n\n    JupyterCommManager.prototype.register_target = function(plot_id, comm_id, msg_handler) {\n      if (window.comm_manager || ((window.Jupyter !== undefined) && (Jupyter.notebook.kernel != null))) {\n        var comm_manager = window.comm_manager || Jupyter.notebook.kernel.comm_manager;\n        comm_manager.register_target(comm_id, function(comm) {\n          comm.on_msg(msg_handler);\n        });\n      } else if ((plot_id in window.PyViz.kernels) && (window.PyViz.kernels[plot_id])) {\n        window.PyViz.kernels[plot_id].registerCommTarget(comm_id, function(comm) {\n          comm.onMsg = msg_handler;\n        });\n      } else if (typeof google != 'undefined' && google.colab.kernel != null) {\n        google.colab.kernel.comms.registerTarget(comm_id, (comm) => {\n          var messages = comm.messages[Symbol.asyncIterator]();\n          function processIteratorResult(result) {\n            var message = result.value;\n            console.log(message)\n            var content = {data: message.data, comm_id};\n            var buffers = []\n            for (var buffer of message.buffers || []) {\n              buffers.push(new DataView(buffer))\n            }\n            var metadata = message.metadata || {};\n            var msg = {content, buffers, metadata}\n            msg_handler(msg);\n            return messages.next().then(processIteratorResult);\n          }\n          return messages.next().then(processIteratorResult);\n        })\n      }\n    }\n\n    JupyterCommManager.prototype.get_client_comm = function(plot_id, comm_id, msg_handler) {\n      if (comm_id in window.PyViz.comms) {\n        return window.PyViz.comms[comm_id];\n      } else if (window.comm_manager || ((window.Jupyter !== undefined) && (Jupyter.notebook.kernel != null))) {\n        var comm_manager = window.comm_manager || Jupyter.notebook.kernel.comm_manager;\n        var comm = comm_manager.new_comm(comm_id, {}, {}, {}, comm_id);\n        if (msg_handler) {\n          comm.on_msg(msg_handler);\n        }\n      } else if ((plot_id in window.PyViz.kernels) && (window.PyViz.kernels[plot_id])) {\n        var comm = window.PyViz.kernels[plot_id].connectToComm(comm_id);\n        comm.open();\n        if (msg_handler) {\n          comm.onMsg = msg_handler;\n        }\n      } else if (typeof google != 'undefined' && google.colab.kernel != null) {\n        var comm_promise = google.colab.kernel.comms.open(comm_id)\n        comm_promise.then((comm) => {\n          window.PyViz.comms[comm_id] = comm;\n          if (msg_handler) {\n            var messages = comm.messages[Symbol.asyncIterator]();\n            function processIteratorResult(result) {\n              var message = result.value;\n              var content = {data: message.data};\n              var metadata = message.metadata || {comm_id};\n              var msg = {content, metadata}\n              msg_handler(msg);\n              return messages.next().then(processIteratorResult);\n            }\n            return messages.next().then(processIteratorResult);\n          }\n        }) \n        var sendClosure = (data, metadata, buffers, disposeOnDone) => {\n          return comm_promise.then((comm) => {\n            comm.send(data, metadata, buffers, disposeOnDone);\n          });\n        };\n        var comm = {\n          send: sendClosure\n        };\n      }\n      window.PyViz.comms[comm_id] = comm;\n      return comm;\n    }\n    window.PyViz.comm_manager = new JupyterCommManager();\n    \n\n\nvar JS_MIME_TYPE = 'application/javascript';\nvar HTML_MIME_TYPE = 'text/html';\nvar EXEC_MIME_TYPE = 'application/vnd.holoviews_exec.v0+json';\nvar CLASS_NAME = 'output';\n\n/**\n * Render data to the DOM node\n */\nfunction render(props, node) {\n  var div = document.createElement(\"div\");\n  var script = document.createElement(\"script\");\n  node.appendChild(div);\n  node.appendChild(script);\n}\n\n/**\n * Handle when a new output is added\n */\nfunction handle_add_output(event, handle) {\n  var output_area = handle.output_area;\n  var output = handle.output;\n  if ((output.data == undefined) || (!output.data.hasOwnProperty(EXEC_MIME_TYPE))) {\n    return\n  }\n  var id = output.metadata[EXEC_MIME_TYPE][\"id\"];\n  var toinsert = output_area.element.find(\".\" + CLASS_NAME.split(' ')[0]);\n  if (id !== undefined) {\n    var nchildren = toinsert.length;\n    var html_node = toinsert[nchildren-1].children[0];\n    html_node.innerHTML = output.data[HTML_MIME_TYPE];\n    var scripts = [];\n    var nodelist = html_node.querySelectorAll(\"script\");\n    for (var i in nodelist) {\n      if (nodelist.hasOwnProperty(i)) {\n        scripts.push(nodelist[i])\n      }\n    }\n\n    scripts.forEach( function (oldScript) {\n      var newScript = document.createElement(\"script\");\n      var attrs = [];\n      var nodemap = oldScript.attributes;\n      for (var j in nodemap) {\n        if (nodemap.hasOwnProperty(j)) {\n          attrs.push(nodemap[j])\n        }\n      }\n      attrs.forEach(function(attr) { newScript.setAttribute(attr.name, attr.value) });\n      newScript.appendChild(document.createTextNode(oldScript.innerHTML));\n      oldScript.parentNode.replaceChild(newScript, oldScript);\n    });\n    if (JS_MIME_TYPE in output.data) {\n      toinsert[nchildren-1].children[1].textContent = output.data[JS_MIME_TYPE];\n    }\n    output_area._hv_plot_id = id;\n    if ((window.Bokeh !== undefined) && (id in Bokeh.index)) {\n      window.PyViz.plot_index[id] = Bokeh.index[id];\n    } else {\n      window.PyViz.plot_index[id] = null;\n    }\n  } else if (output.metadata[EXEC_MIME_TYPE][\"server_id\"] !== undefined) {\n    var bk_div = document.createElement(\"div\");\n    bk_div.innerHTML = output.data[HTML_MIME_TYPE];\n    var script_attrs = bk_div.children[0].attributes;\n    for (var i = 0; i < script_attrs.length; i++) {\n      toinsert[toinsert.length - 1].childNodes[1].setAttribute(script_attrs[i].name, script_attrs[i].value);\n    }\n    // store reference to server id on output_area\n    output_area._bokeh_server_id = output.metadata[EXEC_MIME_TYPE][\"server_id\"];\n  }\n}\n\n/**\n * Handle when an output is cleared or removed\n */\nfunction handle_clear_output(event, handle) {\n  var id = handle.cell.output_area._hv_plot_id;\n  var server_id = handle.cell.output_area._bokeh_server_id;\n  if (((id === undefined) || !(id in PyViz.plot_index)) && (server_id !== undefined)) { return; }\n  var comm = window.PyViz.comm_manager.get_client_comm(\"hv-extension-comm\", \"hv-extension-comm\", function () {});\n  if (server_id !== null) {\n    comm.send({event_type: 'server_delete', 'id': server_id});\n    return;\n  } else if (comm !== null) {\n    comm.send({event_type: 'delete', 'id': id});\n  }\n  delete PyViz.plot_index[id];\n  if ((window.Bokeh !== undefined) & (id in window.Bokeh.index)) {\n    var doc = window.Bokeh.index[id].model.document\n    doc.clear();\n    const i = window.Bokeh.documents.indexOf(doc);\n    if (i > -1) {\n      window.Bokeh.documents.splice(i, 1);\n    }\n  }\n}\n\n/**\n * Handle kernel restart event\n */\nfunction handle_kernel_cleanup(event, handle) {\n  delete PyViz.comms[\"hv-extension-comm\"];\n  window.PyViz.plot_index = {}\n}\n\n/**\n * Handle update_display_data messages\n */\nfunction handle_update_output(event, handle) {\n  handle_clear_output(event, {cell: {output_area: handle.output_area}})\n  handle_add_output(event, handle)\n}\n\nfunction register_renderer(events, OutputArea) {\n  function append_mime(data, metadata, element) {\n    // create a DOM node to render to\n    var toinsert = this.create_output_subarea(\n    metadata,\n    CLASS_NAME,\n    EXEC_MIME_TYPE\n    );\n    this.keyboard_manager.register_events(toinsert);\n    // Render to node\n    var props = {data: data, metadata: metadata[EXEC_MIME_TYPE]};\n    render(props, toinsert[0]);\n    element.append(toinsert);\n    return toinsert\n  }\n\n  events.on('output_added.OutputArea', handle_add_output);\n  events.on('output_updated.OutputArea', handle_update_output);\n  events.on('clear_output.CodeCell', handle_clear_output);\n  events.on('delete.Cell', handle_clear_output);\n  events.on('kernel_ready.Kernel', handle_kernel_cleanup);\n\n  OutputArea.prototype.register_mime_type(EXEC_MIME_TYPE, append_mime, {\n    safe: true,\n    index: 0\n  });\n}\n\nif (window.Jupyter !== undefined) {\n  try {\n    var events = require('base/js/events');\n    var OutputArea = require('notebook/js/outputarea').OutputArea;\n    if (OutputArea.prototype.mime_types().indexOf(EXEC_MIME_TYPE) == -1) {\n      register_renderer(events, OutputArea);\n    }\n  } catch(err) {\n  }\n}\n",
      "application/vnd.holoviews_load.v0+json": ""
     },
     "metadata": {},
     "output_type": "display_data"
    },
    {
     "data": {
      "application/vnd.holoviews_exec.v0+json": "",
      "text/html": [
       "<div id='2993817d-100c-4853-9c53-9286d67333be'>\n",
       "  <div id=\"dad6b99c-90d7-4013-b675-76db7618ef37\" data-root-id=\"2993817d-100c-4853-9c53-9286d67333be\" style=\"display: contents;\"></div>\n",
       "</div>\n",
       "<script type=\"application/javascript\">(function(root) {\n",
       "  var docs_json = {\"6c3bd90d-ed1c-496c-abd1-6dfd83cea6b9\":{\"version\":\"3.6.2\",\"title\":\"Bokeh Application\",\"roots\":[{\"type\":\"object\",\"name\":\"panel.models.browser.BrowserInfo\",\"id\":\"2993817d-100c-4853-9c53-9286d67333be\"},{\"type\":\"object\",\"name\":\"panel.models.comm_manager.CommManager\",\"id\":\"8a23edea-84de-4cb6-85e8-bf8af0fa1987\",\"attributes\":{\"plot_id\":\"2993817d-100c-4853-9c53-9286d67333be\",\"comm_id\":\"7c028c64bc064d75b64ef09ba2c79b5a\",\"client_comm_id\":\"6e6b39283c724bd6aa9655eeb442dbee\"}}],\"defs\":[{\"type\":\"model\",\"name\":\"ReactiveHTML1\"},{\"type\":\"model\",\"name\":\"FlexBox1\",\"properties\":[{\"name\":\"align_content\",\"kind\":\"Any\",\"default\":\"flex-start\"},{\"name\":\"align_items\",\"kind\":\"Any\",\"default\":\"flex-start\"},{\"name\":\"flex_direction\",\"kind\":\"Any\",\"default\":\"row\"},{\"name\":\"flex_wrap\",\"kind\":\"Any\",\"default\":\"wrap\"},{\"name\":\"gap\",\"kind\":\"Any\",\"default\":\"\"},{\"name\":\"justify_content\",\"kind\":\"Any\",\"default\":\"flex-start\"}]},{\"type\":\"model\",\"name\":\"FloatPanel1\",\"properties\":[{\"name\":\"config\",\"kind\":\"Any\",\"default\":{\"type\":\"map\"}},{\"name\":\"contained\",\"kind\":\"Any\",\"default\":true},{\"name\":\"position\",\"kind\":\"Any\",\"default\":\"right-top\"},{\"name\":\"offsetx\",\"kind\":\"Any\",\"default\":null},{\"name\":\"offsety\",\"kind\":\"Any\",\"default\":null},{\"name\":\"theme\",\"kind\":\"Any\",\"default\":\"primary\"},{\"name\":\"status\",\"kind\":\"Any\",\"default\":\"normalized\"}]},{\"type\":\"model\",\"name\":\"GridStack1\",\"properties\":[{\"name\":\"mode\",\"kind\":\"Any\",\"default\":\"warn\"},{\"name\":\"ncols\",\"kind\":\"Any\",\"default\":null},{\"name\":\"nrows\",\"kind\":\"Any\",\"default\":null},{\"name\":\"allow_resize\",\"kind\":\"Any\",\"default\":true},{\"name\":\"allow_drag\",\"kind\":\"Any\",\"default\":true},{\"name\":\"state\",\"kind\":\"Any\",\"default\":[]}]},{\"type\":\"model\",\"name\":\"drag1\",\"properties\":[{\"name\":\"slider_width\",\"kind\":\"Any\",\"default\":5},{\"name\":\"slider_color\",\"kind\":\"Any\",\"default\":\"black\"},{\"name\":\"value\",\"kind\":\"Any\",\"default\":50}]},{\"type\":\"model\",\"name\":\"click1\",\"properties\":[{\"name\":\"terminal_output\",\"kind\":\"Any\",\"default\":\"\"},{\"name\":\"debug_name\",\"kind\":\"Any\",\"default\":\"\"},{\"name\":\"clears\",\"kind\":\"Any\",\"default\":0}]},{\"type\":\"model\",\"name\":\"FastWrapper1\",\"properties\":[{\"name\":\"object\",\"kind\":\"Any\",\"default\":null},{\"name\":\"style\",\"kind\":\"Any\",\"default\":null}]},{\"type\":\"model\",\"name\":\"NotificationAreaBase1\",\"properties\":[{\"name\":\"js_events\",\"kind\":\"Any\",\"default\":{\"type\":\"map\"}},{\"name\":\"position\",\"kind\":\"Any\",\"default\":\"bottom-right\"},{\"name\":\"_clear\",\"kind\":\"Any\",\"default\":0}]},{\"type\":\"model\",\"name\":\"NotificationArea1\",\"properties\":[{\"name\":\"js_events\",\"kind\":\"Any\",\"default\":{\"type\":\"map\"}},{\"name\":\"notifications\",\"kind\":\"Any\",\"default\":[]},{\"name\":\"position\",\"kind\":\"Any\",\"default\":\"bottom-right\"},{\"name\":\"_clear\",\"kind\":\"Any\",\"default\":0},{\"name\":\"types\",\"kind\":\"Any\",\"default\":[{\"type\":\"map\",\"entries\":[[\"type\",\"warning\"],[\"background\",\"#ffc107\"],[\"icon\",{\"type\":\"map\",\"entries\":[[\"className\",\"fas fa-exclamation-triangle\"],[\"tagName\",\"i\"],[\"color\",\"white\"]]}]]},{\"type\":\"map\",\"entries\":[[\"type\",\"info\"],[\"background\",\"#007bff\"],[\"icon\",{\"type\":\"map\",\"entries\":[[\"className\",\"fas fa-info-circle\"],[\"tagName\",\"i\"],[\"color\",\"white\"]]}]]}]}]},{\"type\":\"model\",\"name\":\"Notification\",\"properties\":[{\"name\":\"background\",\"kind\":\"Any\",\"default\":null},{\"name\":\"duration\",\"kind\":\"Any\",\"default\":3000},{\"name\":\"icon\",\"kind\":\"Any\",\"default\":null},{\"name\":\"message\",\"kind\":\"Any\",\"default\":\"\"},{\"name\":\"notification_type\",\"kind\":\"Any\",\"default\":null},{\"name\":\"_rendered\",\"kind\":\"Any\",\"default\":false},{\"name\":\"_destroyed\",\"kind\":\"Any\",\"default\":false}]},{\"type\":\"model\",\"name\":\"TemplateActions1\",\"properties\":[{\"name\":\"open_modal\",\"kind\":\"Any\",\"default\":0},{\"name\":\"close_modal\",\"kind\":\"Any\",\"default\":0}]},{\"type\":\"model\",\"name\":\"BootstrapTemplateActions1\",\"properties\":[{\"name\":\"open_modal\",\"kind\":\"Any\",\"default\":0},{\"name\":\"close_modal\",\"kind\":\"Any\",\"default\":0}]},{\"type\":\"model\",\"name\":\"TemplateEditor1\",\"properties\":[{\"name\":\"layout\",\"kind\":\"Any\",\"default\":[]}]},{\"type\":\"model\",\"name\":\"MaterialTemplateActions1\",\"properties\":[{\"name\":\"open_modal\",\"kind\":\"Any\",\"default\":0},{\"name\":\"close_modal\",\"kind\":\"Any\",\"default\":0}]},{\"type\":\"model\",\"name\":\"ReactiveESM1\",\"properties\":[{\"name\":\"esm_constants\",\"kind\":\"Any\",\"default\":{\"type\":\"map\"}}]},{\"type\":\"model\",\"name\":\"JSComponent1\",\"properties\":[{\"name\":\"esm_constants\",\"kind\":\"Any\",\"default\":{\"type\":\"map\"}}]},{\"type\":\"model\",\"name\":\"ReactComponent1\",\"properties\":[{\"name\":\"esm_constants\",\"kind\":\"Any\",\"default\":{\"type\":\"map\"}}]},{\"type\":\"model\",\"name\":\"AnyWidgetComponent1\",\"properties\":[{\"name\":\"esm_constants\",\"kind\":\"Any\",\"default\":{\"type\":\"map\"}}]},{\"type\":\"model\",\"name\":\"request_value1\",\"properties\":[{\"name\":\"fill\",\"kind\":\"Any\",\"default\":\"none\"},{\"name\":\"_synced\",\"kind\":\"Any\",\"default\":null},{\"name\":\"_request_sync\",\"kind\":\"Any\",\"default\":0}]}]}};\n",
       "  var render_items = [{\"docid\":\"6c3bd90d-ed1c-496c-abd1-6dfd83cea6b9\",\"roots\":{\"2993817d-100c-4853-9c53-9286d67333be\":\"dad6b99c-90d7-4013-b675-76db7618ef37\"},\"root_ids\":[\"2993817d-100c-4853-9c53-9286d67333be\"]}];\n",
       "  var docs = Object.values(docs_json)\n",
       "  if (!docs) {\n",
       "    return\n",
       "  }\n",
       "  const py_version = docs[0].version.replace('rc', '-rc.').replace('.dev', '-dev.')\n",
       "  async function embed_document(root) {\n",
       "    var Bokeh = get_bokeh(root)\n",
       "    await Bokeh.embed.embed_items_notebook(docs_json, render_items);\n",
       "    for (const render_item of render_items) {\n",
       "      for (const root_id of render_item.root_ids) {\n",
       "\tconst id_el = document.getElementById(root_id)\n",
       "\tif (id_el.children.length && id_el.children[0].hasAttribute('data-root-id')) {\n",
       "\t  const root_el = id_el.children[0]\n",
       "\t  root_el.id = root_el.id + '-rendered'\n",
       "\t  for (const child of root_el.children) {\n",
       "            // Ensure JupyterLab does not capture keyboard shortcuts\n",
       "            // see: https://jupyterlab.readthedocs.io/en/4.1.x/extension/notebook.html#keyboard-interaction-model\n",
       "\t    child.setAttribute('data-lm-suppress-shortcuts', 'true')\n",
       "\t  }\n",
       "\t}\n",
       "      }\n",
       "    }\n",
       "  }\n",
       "  function get_bokeh(root) {\n",
       "    if (root.Bokeh === undefined) {\n",
       "      return null\n",
       "    } else if (root.Bokeh.version !== py_version) {\n",
       "      if (root.Bokeh.versions === undefined || !root.Bokeh.versions.has(py_version)) {\n",
       "\treturn null\n",
       "      }\n",
       "      return root.Bokeh.versions.get(py_version);\n",
       "    } else if (root.Bokeh.version === py_version) {\n",
       "      return root.Bokeh\n",
       "    }\n",
       "    return null\n",
       "  }\n",
       "  function is_loaded(root) {\n",
       "    var Bokeh = get_bokeh(root)\n",
       "    return (Bokeh != null && Bokeh.Panel !== undefined)\n",
       "  }\n",
       "  if (is_loaded(root)) {\n",
       "    embed_document(root);\n",
       "  } else {\n",
       "    var attempts = 0;\n",
       "    var timer = setInterval(function(root) {\n",
       "      if (is_loaded(root)) {\n",
       "        clearInterval(timer);\n",
       "        embed_document(root);\n",
       "      } else if (document.readyState == \"complete\") {\n",
       "        attempts++;\n",
       "        if (attempts > 200) {\n",
       "          clearInterval(timer);\n",
       "\t  var Bokeh = get_bokeh(root)\n",
       "\t  if (Bokeh == null || Bokeh.Panel == null) {\n",
       "            console.warn(\"Panel: ERROR: Unable to run Panel code because Bokeh or Panel library is missing\");\n",
       "\t  } else {\n",
       "\t    console.warn(\"Panel: WARNING: Attempting to render but not all required libraries could be resolved.\")\n",
       "\t    embed_document(root)\n",
       "\t  }\n",
       "        }\n",
       "      }\n",
       "    }, 25, root)\n",
       "  }\n",
       "})(window);</script>"
      ]
     },
     "metadata": {
      "application/vnd.holoviews_exec.v0+json": {
       "id": "2993817d-100c-4853-9c53-9286d67333be"
      }
     },
     "output_type": "display_data"
    },
    {
     "name": "stderr",
     "output_type": "stream",
     "text": [
      "c:\\Users\\kjsie\\anaconda3\\envs\\earth-analytics-python\\Lib\\site-packages\\dask\\dataframe\\__init__.py:49: FutureWarning: \n",
      "Dask dataframe query planning is disabled because dask-expr is not installed.\n",
      "\n",
      "You can install it with `pip install dask[dataframe]` or `conda install dask`.\n",
      "This will raise in a future version.\n",
      "\n",
      "  warnings.warn(msg, FutureWarning)\n"
     ]
    },
    {
     "data": {},
     "metadata": {},
     "output_type": "display_data"
    },
    {
     "data": {
      "application/vnd.holoviews_exec.v0+json": "",
      "text/html": [
       "<div id='715324cc-7525-405b-b570-9662d3814787'>\n",
       "  <div id=\"cdbd1cd0-b280-40ff-81a1-b34cbadc71a7\" data-root-id=\"715324cc-7525-405b-b570-9662d3814787\" style=\"display: contents;\"></div>\n",
       "</div>\n",
       "<script type=\"application/javascript\">(function(root) {\n",
       "  var docs_json = {\"63a94f58-1909-427e-a91f-47757e43d3df\":{\"version\":\"3.6.2\",\"title\":\"Bokeh Application\",\"roots\":[{\"type\":\"object\",\"name\":\"Row\",\"id\":\"715324cc-7525-405b-b570-9662d3814787\",\"attributes\":{\"name\":\"Row00390\",\"tags\":[\"embedded\"],\"stylesheets\":[\"\\n:host(.pn-loading):before, .pn-loading:before {\\n  background-color: #c3c3c3;\\n  mask-size: auto calc(min(50%, 400px));\\n  -webkit-mask-size: auto calc(min(50%, 400px));\\n}\",{\"type\":\"object\",\"name\":\"ImportedStyleSheet\",\"id\":\"ddf1019a-4e65-4052-b385-2f68543040e7\",\"attributes\":{\"url\":\"https://cdn.holoviz.org/panel/1.5.5/dist/css/loading.css\"}},{\"type\":\"object\",\"name\":\"ImportedStyleSheet\",\"id\":\"6175891f-893c-4890-9bde-aa2d680596e0\",\"attributes\":{\"url\":\"https://cdn.holoviz.org/panel/1.5.5/dist/css/listpanel.css\"}},{\"type\":\"object\",\"name\":\"ImportedStyleSheet\",\"id\":\"ad1e014d-de71-4fc6-8d7f-2b1a13406faa\",\"attributes\":{\"url\":\"https://cdn.holoviz.org/panel/1.5.5/dist/bundled/theme/default.css\"}},{\"type\":\"object\",\"name\":\"ImportedStyleSheet\",\"id\":\"a49560db-cb2e-463f-b617-76b4a8253614\",\"attributes\":{\"url\":\"https://cdn.holoviz.org/panel/1.5.5/dist/bundled/theme/native.css\"}}],\"margin\":0,\"sizing_mode\":\"stretch_width\",\"align\":\"start\",\"children\":[{\"type\":\"object\",\"name\":\"Spacer\",\"id\":\"77842d82-db36-44fc-8ecd-5f2631a4dc7d\",\"attributes\":{\"name\":\"HSpacer00394\",\"stylesheets\":[\"\\n:host(.pn-loading):before, .pn-loading:before {\\n  background-color: #c3c3c3;\\n  mask-size: auto calc(min(50%, 400px));\\n  -webkit-mask-size: auto calc(min(50%, 400px));\\n}\",{\"id\":\"ddf1019a-4e65-4052-b385-2f68543040e7\"},{\"id\":\"ad1e014d-de71-4fc6-8d7f-2b1a13406faa\"},{\"id\":\"a49560db-cb2e-463f-b617-76b4a8253614\"}],\"margin\":0,\"sizing_mode\":\"stretch_width\",\"align\":\"start\"}},{\"type\":\"object\",\"name\":\"Figure\",\"id\":\"c05b7e1b-6846-42a0-87cd-ae98135fb5e4\",\"attributes\":{\"width\":null,\"height\":null,\"margin\":[5,10],\"sizing_mode\":\"fixed\",\"align\":\"start\",\"x_range\":{\"type\":\"object\",\"name\":\"Range1d\",\"id\":\"17c0728e-1c8d-4179-8f7b-3ee39a448ff3\",\"attributes\":{\"name\":\"Longitude\",\"tags\":[[[\"Longitude\",null]],[]],\"start\":-12510979.484241655,\"end\":-12405058.677057283,\"reset_start\":-12510979.484241655,\"reset_end\":-12405058.677057283,\"min_interval\":5}},\"y_range\":{\"type\":\"object\",\"name\":\"Range1d\",\"id\":\"f5abca58-3584-4fca-b2e3-88280874e6db\",\"attributes\":{\"name\":\"Latitude\",\"tags\":[[[\"Latitude\",null]],{\"type\":\"map\",\"entries\":[[\"invert_yaxis\",false],[\"autorange\",false]]}],\"start\":3887362.989805815,\"end\":3950615.333018923,\"reset_start\":3887362.989805815,\"reset_end\":3950615.333018923,\"min_interval\":5}},\"x_scale\":{\"type\":\"object\",\"name\":\"LinearScale\",\"id\":\"6fd762f7-8240-4821-99d1-8dab616f6bcc\"},\"y_scale\":{\"type\":\"object\",\"name\":\"LinearScale\",\"id\":\"39be6818-01ed-464d-8927-16da92672b35\"},\"title\":{\"type\":\"object\",\"name\":\"Title\",\"id\":\"427516d4-35e1-4893-a3b0-e4be43cd7681\",\"attributes\":{\"text\":\"Gila River Indian Community\",\"text_color\":\"black\",\"text_font_size\":\"12pt\"}},\"renderers\":[{\"type\":\"object\",\"name\":\"TileRenderer\",\"id\":\"40a3064c-0809-46bd-a17b-34aa2b506d65\",\"attributes\":{\"level\":\"underlay\",\"tile_source\":{\"type\":\"object\",\"name\":\"WMTSTileSource\",\"id\":\"1b237137-6b6d-4460-af32-4129d3e66fb6\",\"attributes\":{\"url\":\"https://server.arcgisonline.com/ArcGIS/rest/services/World_Imagery/MapServer/tile/{Z}/{Y}/{X}.jpg\",\"attribution\":\"&copy; <a href=\\\"http://downloads.esri.com/ArcGISOnline/docs/tou_summary.pdf\\\">Esri</a>, Earthstar Geographics\"}}}},{\"type\":\"object\",\"name\":\"GlyphRenderer\",\"id\":\"d84f8f9d-98e5-46f5-b597-7d360079b83d\",\"attributes\":{\"data_source\":{\"type\":\"object\",\"name\":\"ColumnDataSource\",\"id\":\"d47950bf-08df-4ab1-a4ba-61e5e81ec083\",\"attributes\":{\"selected\":{\"type\":\"object\",\"name\":\"Selection\",\"id\":\"10bbb8a7-2ea5-486c-9661-fd48485c2dc2\",\"attributes\":{\"indices\":[],\"line_indices\":[]}},\"selection_policy\":{\"type\":\"object\",\"name\":\"UnionRenderers\",\"id\":\"ee07f6f2-a574-4719-b95f-af6bb691ceb9\"},\"data\":{\"type\":\"map\",\"entries\":[[\"xs\",[[[{\"type\":\"ndarray\",\"array\":{\"type\":\"bytes\",\"data\":\"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\"},\"shape\":[1340],\"dtype\":\"float64\",\"order\":\"little\"},{\"type\":\"ndarray\",\"array\":{\"type\":\"bytes\",\"data\":\"2ZICm7mxZ8Hi8ju6obFnweLyO7qhsWfB/QSstqGxZ8FXmAvMobFnwT2Gm8+hsWfBsH/2mt6xZ8F0gNzA+bFnwTkTaOsAsmfBa1W8OgOyZ8EYvSF2CLJnwU31+f0JsmfBsL+JxRmyZ8GcD+dMGrJnwSZqFzsasmfBwH5maRqyZ8GkezCYG7Jnwe1PswkbsmfBpmz2bBqyZ8EMpfu0yrFnwdmSApu5sWfB\"},\"shape\":[21],\"dtype\":\"float64\",\"order\":\"little\"},{\"type\":\"ndarray\",\"array\":{\"type\":\"bytes\",\"data\":\"GZ2Loe/EZ8H52xQwy8RnwWz3JqDHxGfBbPcmoMfEZ8GICZecx8RnwRFkx4rHxGfB5o28hsbEZ8HdK+8CxsRnwV8flAnFxGfBqvMWe8TEZ8FPW/kBxMRnweAX93PExGfBlE3wycXEZ8HsfuqKPsVnwYOpxaxYxWfBt+ZbmFrFZ8HEw6ySXcVnwS4q4dpfxWfBVw8mCmLFZ8Ge/F5uY8VnwZK4BUFlxWfBhW/ur2bFZ8Fu4n3xacVnwRbF4+5rxWfBfjpSYm/FZ8EGCi8UnMVnwSJOjqqlxWfBSkINBanFZ8EG2tPeqsVnwexgW6+vxWfBTWAEELHFZ8ElozKzt8VnwYI2ksi3xWfB+Ab/q6jFZ8GFnbWAP8VnwRmdi6HvxGfB\"},\"shape\":[36],\"dtype\":\"float64\",\"order\":\"little\"},{\"type\":\"ndarray\",\"array\":{\"type\":\"bytes\",\"data\":\"SzauqlDCZ8HpMUfmTsJnwf4Hycw+wmfBo2nvJfXBZ8EbCgHU9MFnwdErApv0wWfBLbqjTPTBZ8GcAmQ+9MFnwe04tDP0wWfBeJPkIfTBZ8HAceNa9MFnwcBx41r0wWfBQWpGxfPBZ8GsnfXYHMJnwcJ9W7aGwmfBXih4sqPCZ8HeA+Lb48JnwQzQcBjkwmfBOJz/VOTCZ8EJ5Gin5cJnwVgp88fmwmfB8z1C9ubCZ8GUTe5Fc8JnwfmdE+ZVwmfBSzauqlDCZ8E=\"},\"shape\":[25],\"dtype\":\"float64\",\"order\":\"little\"}]]]],[\"ys\",[[[{\"type\":\"ndarray\",\"array\":{\"type\":\"bytes\",\"data\":\"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\"},\"shape\":[1340],\"dtype\":\"float64\",\"order\":\"little\"},{\"type\":\"ndarray\",\"array\":{\"type\":\"bytes\",\"data\":\"+IpIFtW+TUHAJj6e1b5NQR9uZFP7vk1BE8z13Cm/TUGyIbrkgb9NQQTA09wYwE1BJ2XfIRjATUGVoePdF8BNQYnx+mcWwE1BU/kMRxXATUGC4l8ZEMBNQYTrgAoOwE1BCD1VwxDATUGLMPnN9r9NQbYSeiaUv01BcxGlFoO/TUG3h3J4d79NQfMxXzFqv01BwCY+ntW+TUH4ikgW1b5NQfiKSBbVvk1B\"},\"shape\":[21],\"dtype\":\"float64\",\"order\":\"little\"},{\"type\":\"ndarray\",\"array\":{\"type\":\"bytes\",\"data\":\"u5+pSvHKTUH7QOub9cpNQZFh9lb2yk1BHQBntv3KTUFQaVZBDctNQR+d1s50y01BZhcJDPzLTUHJwGhU1MxNQQb9vhgtzk1BB96MYIfOTUE24hv9ls5NQU4mrBjEzk1Bnnajw8POTUGTguVJxs5NQe3x76/Gzk1BEx/8JsfOTUHkC2+Jy85NQRRhnEPNzk1BlCWXEM3OTUG8OIJEzM5NQYRkWKzKzk1BMhwr8sjOTUFMCgqvx85NQZcUA2vHzk1BTAoKr8fOTUHk2SwDyc5NQdagJ9DIzk1B1LZIE8rOTUGNj2tny85NQT/eBlHRzk1Bp9YbHdLOTUEG+BNl58pNQdm3V9fayk1BSKBiktvKTUHj+Rvt58pNQbufqUrxyk1B\"},\"shape\":[36],\"dtype\":\"float64\",\"order\":\"little\"},{\"type\":\"ndarray\",\"array\":{\"type\":\"bytes\",\"data\":\"cEftP5y/TUEg+uphnL9NQWVez/mdv01BOCeAjqK/TUHLE56Jx8BNQdSdyqqKwU1Bt0pzqR7CTUE7h8xCL8JNQTB9cI44wk1BxbHBcGXCTUEfT2wN5sJNQQFDVfnowk1Bn04GXl7DTUG6hCBiWsNNQQ18CAlew01BrvQBCF/DTUGbLra3asNNQYz/8aYXw01BldSCqMPCTUHlT6q/JcFNQSAq9brIv01BuhOmoJG/TUHSPvHaqr9NQSp99rebv01BcEftP5y/TUE=\"},\"shape\":[25],\"dtype\":\"float64\",\"order\":\"little\"}]]]]]}}},\"view\":{\"type\":\"object\",\"name\":\"CDSView\",\"id\":\"489660d5-cc5a-4e1a-91fc-5ac449a533bb\",\"attributes\":{\"filter\":{\"type\":\"object\",\"name\":\"AllIndices\",\"id\":\"8f872648-1ab5-45a7-9258-1a3486672493\"}}},\"glyph\":{\"type\":\"object\",\"name\":\"MultiPolygons\",\"id\":\"ff7a2c64-3074-484f-ace4-dc7ac255a909\",\"attributes\":{\"xs\":{\"type\":\"field\",\"field\":\"xs\"},\"ys\":{\"type\":\"field\",\"field\":\"ys\"},\"fill_color\":{\"type\":\"value\",\"value\":null},\"hatch_color\":{\"type\":\"value\",\"value\":\"#30a2da\"}}},\"selection_glyph\":{\"type\":\"object\",\"name\":\"MultiPolygons\",\"id\":\"cbeaa1b2-2307-4700-a22d-c75004a21a49\",\"attributes\":{\"xs\":{\"type\":\"field\",\"field\":\"xs\"},\"ys\":{\"type\":\"field\",\"field\":\"ys\"},\"line_color\":{\"type\":\"value\",\"value\":\"black\"},\"line_alpha\":{\"type\":\"value\",\"value\":1.0},\"line_width\":{\"type\":\"value\",\"value\":1},\"line_join\":{\"type\":\"value\",\"value\":\"bevel\"},\"line_cap\":{\"type\":\"value\",\"value\":\"butt\"},\"line_dash\":{\"type\":\"value\",\"value\":[]},\"line_dash_offset\":{\"type\":\"value\",\"value\":0},\"fill_color\":{\"type\":\"value\",\"value\":null},\"fill_alpha\":{\"type\":\"value\",\"value\":1.0},\"hatch_color\":{\"type\":\"value\",\"value\":\"#30a2da\"},\"hatch_alpha\":{\"type\":\"value\",\"value\":1.0},\"hatch_scale\":{\"type\":\"value\",\"value\":12.0},\"hatch_pattern\":{\"type\":\"value\",\"value\":null},\"hatch_weight\":{\"type\":\"value\",\"value\":1.0}}},\"nonselection_glyph\":{\"type\":\"object\",\"name\":\"MultiPolygons\",\"id\":\"b075f4ad-6f58-4a2a-a168-0b3d84905d78\",\"attributes\":{\"xs\":{\"type\":\"field\",\"field\":\"xs\"},\"ys\":{\"type\":\"field\",\"field\":\"ys\"},\"line_alpha\":{\"type\":\"value\",\"value\":0.1},\"fill_color\":{\"type\":\"value\",\"value\":null},\"fill_alpha\":{\"type\":\"value\",\"value\":0.1},\"hatch_color\":{\"type\":\"value\",\"value\":\"#30a2da\"},\"hatch_alpha\":{\"type\":\"value\",\"value\":0.1}}},\"muted_glyph\":{\"type\":\"object\",\"name\":\"MultiPolygons\",\"id\":\"12109078-252d-41a6-8945-96e6c88acd49\",\"attributes\":{\"xs\":{\"type\":\"field\",\"field\":\"xs\"},\"ys\":{\"type\":\"field\",\"field\":\"ys\"},\"line_alpha\":{\"type\":\"value\",\"value\":0.2},\"fill_color\":{\"type\":\"value\",\"value\":null},\"fill_alpha\":{\"type\":\"value\",\"value\":0.2},\"hatch_color\":{\"type\":\"value\",\"value\":\"#30a2da\"},\"hatch_alpha\":{\"type\":\"value\",\"value\":0.2}}}}}],\"toolbar\":{\"type\":\"object\",\"name\":\"Toolbar\",\"id\":\"0ea902b9-4bc3-40eb-ba85-da14695221aa\",\"attributes\":{\"tools\":[{\"type\":\"object\",\"name\":\"WheelZoomTool\",\"id\":\"8b862c94-262c-45a8-9adf-7f7e04bf1dc2\",\"attributes\":{\"renderers\":\"auto\",\"zoom_on_axis\":false}},{\"type\":\"object\",\"name\":\"BoxZoomTool\",\"id\":\"b5bf857c-9e4b-48ff-bec7-9860d97bd99d\",\"attributes\":{\"overlay\":{\"type\":\"object\",\"name\":\"BoxAnnotation\",\"id\":\"f021deb8-039a-4e3a-8448-ffcc31002f95\",\"attributes\":{\"syncable\":false,\"line_color\":\"black\",\"line_alpha\":1.0,\"line_width\":2,\"line_dash\":[4,4],\"fill_color\":\"lightgrey\",\"fill_alpha\":0.5,\"level\":\"overlay\",\"visible\":false,\"left\":{\"type\":\"number\",\"value\":\"nan\"},\"right\":{\"type\":\"number\",\"value\":\"nan\"},\"top\":{\"type\":\"number\",\"value\":\"nan\"},\"bottom\":{\"type\":\"number\",\"value\":\"nan\"},\"left_units\":\"canvas\",\"right_units\":\"canvas\",\"top_units\":\"canvas\",\"bottom_units\":\"canvas\",\"handles\":{\"type\":\"object\",\"name\":\"BoxInteractionHandles\",\"id\":\"4d6eaf00-08b2-427d-9d50-12764e4a59f0\",\"attributes\":{\"all\":{\"type\":\"object\",\"name\":\"AreaVisuals\",\"id\":\"df93b5ce-f486-41c5-99a1-51433576044d\",\"attributes\":{\"fill_color\":\"white\",\"hover_fill_color\":\"lightgray\"}}}}}},\"match_aspect\":true}},{\"type\":\"object\",\"name\":\"PanTool\",\"id\":\"fb1befc1-7d37-4278-ad83-d47b23d57bc2\"},{\"type\":\"object\",\"name\":\"ResetTool\",\"id\":\"b421d762-6406-43e9-be9e-75c5c8126e24\"}],\"active_drag\":{\"id\":\"fb1befc1-7d37-4278-ad83-d47b23d57bc2\"}}},\"left\":[{\"type\":\"object\",\"name\":\"LinearAxis\",\"id\":\"db481110-d3dd-4ebf-9d41-3bdbf4163043\",\"attributes\":{\"ticker\":{\"type\":\"object\",\"name\":\"MercatorTicker\",\"id\":\"df645bb3-e873-4b54-94fe-7e56188412b3\",\"attributes\":{\"mantissas\":[1,2,5],\"dimension\":\"lat\"}},\"formatter\":{\"type\":\"object\",\"name\":\"MercatorTickFormatter\",\"id\":\"9c962cc8-ad02-42d4-a5b3-3422f308673e\",\"attributes\":{\"dimension\":\"lat\"}},\"axis_label\":\"Latitude\",\"major_label_policy\":{\"type\":\"object\",\"name\":\"AllLabels\",\"id\":\"c06c1c0c-88cc-44ae-bd3c-cff7dd804df5\"}}}],\"below\":[{\"type\":\"object\",\"name\":\"LinearAxis\",\"id\":\"44bb3880-1701-4de6-8b6e-1092e11ab613\",\"attributes\":{\"ticker\":{\"type\":\"object\",\"name\":\"MercatorTicker\",\"id\":\"6b0f6071-7177-40c7-b97d-18f80587f318\",\"attributes\":{\"mantissas\":[1,2,5],\"dimension\":\"lon\"}},\"formatter\":{\"type\":\"object\",\"name\":\"MercatorTickFormatter\",\"id\":\"3357108f-0563-431a-8a75-7aacf81ee4eb\",\"attributes\":{\"dimension\":\"lon\"}},\"axis_label\":\"Longitude\",\"major_label_policy\":{\"type\":\"object\",\"name\":\"AllLabels\",\"id\":\"539bf670-1e40-451b-b511-3e9cf6d54f5d\"}}}],\"center\":[{\"type\":\"object\",\"name\":\"Grid\",\"id\":\"4f60ee47-a189-4d3d-9339-ffc82a626801\",\"attributes\":{\"axis\":{\"id\":\"44bb3880-1701-4de6-8b6e-1092e11ab613\"},\"grid_line_color\":null}},{\"type\":\"object\",\"name\":\"Grid\",\"id\":\"7d863bef-9c84-4a6e-8f67-d7f5ab0ae798\",\"attributes\":{\"dimension\":1,\"axis\":{\"id\":\"db481110-d3dd-4ebf-9d41-3bdbf4163043\"},\"grid_line_color\":null}}],\"frame_width\":500,\"frame_height\":298,\"min_border_top\":10,\"min_border_bottom\":10,\"min_border_left\":10,\"min_border_right\":10,\"output_backend\":\"webgl\",\"match_aspect\":true}},{\"type\":\"object\",\"name\":\"Spacer\",\"id\":\"5c5762ac-690c-4de0-ae1c-67b04e973ef8\",\"attributes\":{\"name\":\"HSpacer00395\",\"stylesheets\":[\"\\n:host(.pn-loading):before, .pn-loading:before {\\n  background-color: #c3c3c3;\\n  mask-size: auto calc(min(50%, 400px));\\n  -webkit-mask-size: auto calc(min(50%, 400px));\\n}\",{\"id\":\"ddf1019a-4e65-4052-b385-2f68543040e7\"},{\"id\":\"ad1e014d-de71-4fc6-8d7f-2b1a13406faa\"},{\"id\":\"a49560db-cb2e-463f-b617-76b4a8253614\"}],\"margin\":0,\"sizing_mode\":\"stretch_width\",\"align\":\"start\"}}]}}],\"defs\":[{\"type\":\"model\",\"name\":\"ReactiveHTML1\"},{\"type\":\"model\",\"name\":\"FlexBox1\",\"properties\":[{\"name\":\"align_content\",\"kind\":\"Any\",\"default\":\"flex-start\"},{\"name\":\"align_items\",\"kind\":\"Any\",\"default\":\"flex-start\"},{\"name\":\"flex_direction\",\"kind\":\"Any\",\"default\":\"row\"},{\"name\":\"flex_wrap\",\"kind\":\"Any\",\"default\":\"wrap\"},{\"name\":\"gap\",\"kind\":\"Any\",\"default\":\"\"},{\"name\":\"justify_content\",\"kind\":\"Any\",\"default\":\"flex-start\"}]},{\"type\":\"model\",\"name\":\"FloatPanel1\",\"properties\":[{\"name\":\"config\",\"kind\":\"Any\",\"default\":{\"type\":\"map\"}},{\"name\":\"contained\",\"kind\":\"Any\",\"default\":true},{\"name\":\"position\",\"kind\":\"Any\",\"default\":\"right-top\"},{\"name\":\"offsetx\",\"kind\":\"Any\",\"default\":null},{\"name\":\"offsety\",\"kind\":\"Any\",\"default\":null},{\"name\":\"theme\",\"kind\":\"Any\",\"default\":\"primary\"},{\"name\":\"status\",\"kind\":\"Any\",\"default\":\"normalized\"}]},{\"type\":\"model\",\"name\":\"GridStack1\",\"properties\":[{\"name\":\"mode\",\"kind\":\"Any\",\"default\":\"warn\"},{\"name\":\"ncols\",\"kind\":\"Any\",\"default\":null},{\"name\":\"nrows\",\"kind\":\"Any\",\"default\":null},{\"name\":\"allow_resize\",\"kind\":\"Any\",\"default\":true},{\"name\":\"allow_drag\",\"kind\":\"Any\",\"default\":true},{\"name\":\"state\",\"kind\":\"Any\",\"default\":[]}]},{\"type\":\"model\",\"name\":\"drag1\",\"properties\":[{\"name\":\"slider_width\",\"kind\":\"Any\",\"default\":5},{\"name\":\"slider_color\",\"kind\":\"Any\",\"default\":\"black\"},{\"name\":\"value\",\"kind\":\"Any\",\"default\":50}]},{\"type\":\"model\",\"name\":\"click1\",\"properties\":[{\"name\":\"terminal_output\",\"kind\":\"Any\",\"default\":\"\"},{\"name\":\"debug_name\",\"kind\":\"Any\",\"default\":\"\"},{\"name\":\"clears\",\"kind\":\"Any\",\"default\":0}]},{\"type\":\"model\",\"name\":\"FastWrapper1\",\"properties\":[{\"name\":\"object\",\"kind\":\"Any\",\"default\":null},{\"name\":\"style\",\"kind\":\"Any\",\"default\":null}]},{\"type\":\"model\",\"name\":\"NotificationAreaBase1\",\"properties\":[{\"name\":\"js_events\",\"kind\":\"Any\",\"default\":{\"type\":\"map\"}},{\"name\":\"position\",\"kind\":\"Any\",\"default\":\"bottom-right\"},{\"name\":\"_clear\",\"kind\":\"Any\",\"default\":0}]},{\"type\":\"model\",\"name\":\"NotificationArea1\",\"properties\":[{\"name\":\"js_events\",\"kind\":\"Any\",\"default\":{\"type\":\"map\"}},{\"name\":\"notifications\",\"kind\":\"Any\",\"default\":[]},{\"name\":\"position\",\"kind\":\"Any\",\"default\":\"bottom-right\"},{\"name\":\"_clear\",\"kind\":\"Any\",\"default\":0},{\"name\":\"types\",\"kind\":\"Any\",\"default\":[{\"type\":\"map\",\"entries\":[[\"type\",\"warning\"],[\"background\",\"#ffc107\"],[\"icon\",{\"type\":\"map\",\"entries\":[[\"className\",\"fas fa-exclamation-triangle\"],[\"tagName\",\"i\"],[\"color\",\"white\"]]}]]},{\"type\":\"map\",\"entries\":[[\"type\",\"info\"],[\"background\",\"#007bff\"],[\"icon\",{\"type\":\"map\",\"entries\":[[\"className\",\"fas fa-info-circle\"],[\"tagName\",\"i\"],[\"color\",\"white\"]]}]]}]}]},{\"type\":\"model\",\"name\":\"Notification\",\"properties\":[{\"name\":\"background\",\"kind\":\"Any\",\"default\":null},{\"name\":\"duration\",\"kind\":\"Any\",\"default\":3000},{\"name\":\"icon\",\"kind\":\"Any\",\"default\":null},{\"name\":\"message\",\"kind\":\"Any\",\"default\":\"\"},{\"name\":\"notification_type\",\"kind\":\"Any\",\"default\":null},{\"name\":\"_rendered\",\"kind\":\"Any\",\"default\":false},{\"name\":\"_destroyed\",\"kind\":\"Any\",\"default\":false}]},{\"type\":\"model\",\"name\":\"TemplateActions1\",\"properties\":[{\"name\":\"open_modal\",\"kind\":\"Any\",\"default\":0},{\"name\":\"close_modal\",\"kind\":\"Any\",\"default\":0}]},{\"type\":\"model\",\"name\":\"BootstrapTemplateActions1\",\"properties\":[{\"name\":\"open_modal\",\"kind\":\"Any\",\"default\":0},{\"name\":\"close_modal\",\"kind\":\"Any\",\"default\":0}]},{\"type\":\"model\",\"name\":\"TemplateEditor1\",\"properties\":[{\"name\":\"layout\",\"kind\":\"Any\",\"default\":[]}]},{\"type\":\"model\",\"name\":\"MaterialTemplateActions1\",\"properties\":[{\"name\":\"open_modal\",\"kind\":\"Any\",\"default\":0},{\"name\":\"close_modal\",\"kind\":\"Any\",\"default\":0}]},{\"type\":\"model\",\"name\":\"ReactiveESM1\",\"properties\":[{\"name\":\"esm_constants\",\"kind\":\"Any\",\"default\":{\"type\":\"map\"}}]},{\"type\":\"model\",\"name\":\"JSComponent1\",\"properties\":[{\"name\":\"esm_constants\",\"kind\":\"Any\",\"default\":{\"type\":\"map\"}}]},{\"type\":\"model\",\"name\":\"ReactComponent1\",\"properties\":[{\"name\":\"esm_constants\",\"kind\":\"Any\",\"default\":{\"type\":\"map\"}}]},{\"type\":\"model\",\"name\":\"AnyWidgetComponent1\",\"properties\":[{\"name\":\"esm_constants\",\"kind\":\"Any\",\"default\":{\"type\":\"map\"}}]},{\"type\":\"model\",\"name\":\"request_value1\",\"properties\":[{\"name\":\"fill\",\"kind\":\"Any\",\"default\":\"none\"},{\"name\":\"_synced\",\"kind\":\"Any\",\"default\":null},{\"name\":\"_request_sync\",\"kind\":\"Any\",\"default\":0}]}]}};\n",
       "  var render_items = [{\"docid\":\"63a94f58-1909-427e-a91f-47757e43d3df\",\"roots\":{\"715324cc-7525-405b-b570-9662d3814787\":\"cdbd1cd0-b280-40ff-81a1-b34cbadc71a7\"},\"root_ids\":[\"715324cc-7525-405b-b570-9662d3814787\"]}];\n",
       "  var docs = Object.values(docs_json)\n",
       "  if (!docs) {\n",
       "    return\n",
       "  }\n",
       "  const py_version = docs[0].version.replace('rc', '-rc.').replace('.dev', '-dev.')\n",
       "  async function embed_document(root) {\n",
       "    var Bokeh = get_bokeh(root)\n",
       "    await Bokeh.embed.embed_items_notebook(docs_json, render_items);\n",
       "    for (const render_item of render_items) {\n",
       "      for (const root_id of render_item.root_ids) {\n",
       "\tconst id_el = document.getElementById(root_id)\n",
       "\tif (id_el.children.length && id_el.children[0].hasAttribute('data-root-id')) {\n",
       "\t  const root_el = id_el.children[0]\n",
       "\t  root_el.id = root_el.id + '-rendered'\n",
       "\t  for (const child of root_el.children) {\n",
       "            // Ensure JupyterLab does not capture keyboard shortcuts\n",
       "            // see: https://jupyterlab.readthedocs.io/en/4.1.x/extension/notebook.html#keyboard-interaction-model\n",
       "\t    child.setAttribute('data-lm-suppress-shortcuts', 'true')\n",
       "\t  }\n",
       "\t}\n",
       "      }\n",
       "    }\n",
       "  }\n",
       "  function get_bokeh(root) {\n",
       "    if (root.Bokeh === undefined) {\n",
       "      return null\n",
       "    } else if (root.Bokeh.version !== py_version) {\n",
       "      if (root.Bokeh.versions === undefined || !root.Bokeh.versions.has(py_version)) {\n",
       "\treturn null\n",
       "      }\n",
       "      return root.Bokeh.versions.get(py_version);\n",
       "    } else if (root.Bokeh.version === py_version) {\n",
       "      return root.Bokeh\n",
       "    }\n",
       "    return null\n",
       "  }\n",
       "  function is_loaded(root) {\n",
       "    var Bokeh = get_bokeh(root)\n",
       "    return (Bokeh != null && Bokeh.Panel !== undefined)\n",
       "  }\n",
       "  if (is_loaded(root)) {\n",
       "    embed_document(root);\n",
       "  } else {\n",
       "    var attempts = 0;\n",
       "    var timer = setInterval(function(root) {\n",
       "      if (is_loaded(root)) {\n",
       "        clearInterval(timer);\n",
       "        embed_document(root);\n",
       "      } else if (document.readyState == \"complete\") {\n",
       "        attempts++;\n",
       "        if (attempts > 200) {\n",
       "          clearInterval(timer);\n",
       "\t  var Bokeh = get_bokeh(root)\n",
       "\t  if (Bokeh == null || Bokeh.Panel == null) {\n",
       "            console.warn(\"Panel: ERROR: Unable to run Panel code because Bokeh or Panel library is missing\");\n",
       "\t  } else {\n",
       "\t    console.warn(\"Panel: WARNING: Attempting to render but not all required libraries could be resolved.\")\n",
       "\t    embed_document(root)\n",
       "\t  }\n",
       "        }\n",
       "      }\n",
       "    }, 25, root)\n",
       "  }\n",
       "})(window);</script>"
      ],
      "text/plain": [
       ":Overlay\n",
       "   .WMTS.I     :WMTS   [Longitude,Latitude]\n",
       "   .Polygons.I :Polygons   [Longitude,Latitude]"
      ]
     },
     "execution_count": 26,
     "metadata": {
      "application/vnd.holoviews_exec.v0+json": {
       "id": "715324cc-7525-405b-b570-9662d3814787"
      }
     },
     "output_type": "execute_result"
    }
   ],
   "source": [
    "# Select and merge the subdivisions you want\n",
    "\n",
    "### subset aitsn_boundary to just include the Gila River locations\n",
    "### use dissolve to combine multiple geometries into a single polygon/multipolygon\n",
    "gila_gdf = aitsn_boundary[aitsn_boundary[\"AIANNHCE\"] == \"1310\"].dissolve()\n",
    "gila_gdf\n",
    "\n",
    "# Plot the results with web tile images\n",
    "\n",
    "### import hvplot\n",
    "import hvplot.pandas\n",
    "\n",
    "### plot the study area\n",
    "gila_gdf.hvplot(geo = True, tiles = 'EsriImagery',\n",
    "                fill_color = None, line_color = 'black',\n",
    "                title = 'Gila River Indian Community',\n",
    "                frame_width = 500)"
   ]
  },
  {
   "cell_type": "markdown",
   "id": "2f0fc504",
   "metadata": {},
   "source": [
    "## Alternative workflow: open the boundary data without downloading it\n",
    "Here, you will open the data in Python without downloading it. You will need the link to the zip file download. Follow steps 1A-1C to get to the dataset page, then right-click on the \"Download\" button next to the zip file and copy the link."
   ]
  },
  {
   "cell_type": "code",
   "execution_count": 27,
   "id": "373ba039",
   "metadata": {},
   "outputs": [
    {
     "data": {
      "text/plain": [
       "'https://www2.census.gov/geo/tiger/TIGER2020/AITSN/tl_2020_us_aitsn.zip'"
      ]
     },
     "execution_count": 27,
     "metadata": {},
     "output_type": "execute_result"
    }
   ],
   "source": [
    "### create url for AITSN data from data.gov\n",
    "aitsn_url = \"https://www2.census.gov/geo/tiger/TIGER2020/AITSN/tl_2020_us_aitsn.zip\"\n",
    "aitsn_url"
   ]
  },
  {
   "cell_type": "code",
   "execution_count": null,
   "id": "ce936b88",
   "metadata": {},
   "outputs": [],
   "source": [
    "### open AITSN URL with geopandas\n",
    "aitsn = gpd.read_file(aitsn_url)\n",
    "aitsn"
   ]
  },
  {
   "cell_type": "markdown",
   "id": "1480e311",
   "metadata": {},
   "source": [
    "# Step -1: Wrap up\n",
    "\n",
    "Don’t forget to store your variables so you can use them in other\n",
    "notebooks! Replace `var1` and `var2` with the variable you want to save,\n",
    "separated by spaces."
   ]
  },
  {
   "cell_type": "code",
   "execution_count": 30,
   "id": "0821b1ef",
   "metadata": {},
   "outputs": [
    {
     "name": "stdout",
     "output_type": "stream",
     "text": [
      "Stored 'gila_gdf' (GeoDataFrame)\n",
      "Stored 'aitsn_boundary' (GeoDataFrame)\n"
     ]
    }
   ],
   "source": [
    "%store gila_gdf aitsn_boundary"
   ]
  },
  {
   "cell_type": "markdown",
   "id": "9f034be9",
   "metadata": {},
   "source": [
    "Finally, be sure to `Restart` and `Run all` to make sure your notebook\n",
    "works all the way through!"
   ]
  }
 ],
 "metadata": {
  "kernelspec": {
   "display_name": "earth-analytics-python",
   "language": "python",
   "name": "python3"
  },
  "language_info": {
   "codemirror_mode": {
    "name": "ipython",
    "version": 3
   },
   "file_extension": ".py",
   "mimetype": "text/x-python",
   "name": "python",
   "nbconvert_exporter": "python",
   "pygments_lexer": "ipython3",
   "version": "3.11.11"
  }
 },
 "nbformat": 4,
 "nbformat_minor": 5
}
