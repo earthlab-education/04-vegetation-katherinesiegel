{
  "cells": [
    {
      "cell_type": "markdown",
      "metadata": {},
      "source": [
        "# \n",
        "\n",
        "title: Water Rights Restored to the Gila River\n",
        "\n",
        "subtitle: The impacts of irrigation on vegetation health in the Gila\n",
        "River Valley\n",
        "\n",
        "author:\n",
        "\n",
        "-   Elsa Culler\n",
        "\n",
        "-   Nate Quarderer\n",
        "\n",
        "date: last-modified\n",
        "\n",
        "image: /img/earth-analytics/water-rights/lesson-water-rights.png\n",
        "\n",
        "image-alt: “Dry river with dead plants turns into a stream with living\n",
        "plants”\n",
        "\n",
        "description: \\|\n",
        "\n",
        "In 2004, the Akimel O’‘otham and Tohono O’’odham tribes won a water\n",
        "rights settlement in the US Supreme Court. Using satellite imagery, we\n",
        "can see the effects of irrigation water on the local vegetation.\n",
        "\n",
        "learning-goals:\n",
        "\n",
        "-   Open raster or image data using code\n",
        "\n",
        "-   Combine raster data and vector data to crop images to an area of\n",
        "    interest\n",
        "\n",
        "-   Summarize raster values with stastics\n",
        "\n",
        "-   Analyze a time-series of raster images\n",
        "\n",
        "params:\n",
        "\n",
        "id: stars\n",
        "\n",
        "site_name: Gila River Indian Community\n",
        "\n",
        "event: water rights case\n",
        "\n",
        "data_dir: gila-river\n",
        "\n",
        "jupyter:\n",
        "\n",
        "kernelspec:\n",
        "\n",
        "    name: learning-portal\n",
        "\n",
        "    language: python\n",
        "\n",
        "    display_name: Learning Portal\n",
        "\n",
        "# STEP 0: Set up\n",
        "\n",
        "To get started on this notebook, you’ll need to restore any variables\n",
        "from previous notebooks to your workspace. To save time and memory, make\n",
        "sure to specify which variables you want to load."
      ],
      "id": "8c149afe-3720-4b66-af28-72c986f2af1e"
    },
    {
      "cell_type": "code",
      "execution_count": 1,
      "metadata": {},
      "outputs": [],
      "source": [
        "%store -r"
      ],
      "id": "28dda0b5"
    },
    {
      "cell_type": "markdown",
      "metadata": {},
      "source": [
        "You will also need to import any libraries you are using in this\n",
        "notebook, since they won’t carry over from the previous notebook:"
      ],
      "id": "8d017604-565f-4cf4-a6d1-5e72d40e8575"
    },
    {
      "cell_type": "code",
      "execution_count": 2,
      "metadata": {},
      "outputs": [],
      "source": [
        "# Import libraries"
      ],
      "id": "f3c45c53"
    },
    {
      "cell_type": "markdown",
      "metadata": {},
      "source": [
        "# STEP 3: Plot NDVI\n",
        "\n",
        "<link rel=\"stylesheet\" type=\"text/css\" href=\"./assets/styles.css\"><div class=\"callout callout-style-default callout-titled callout-task\"><div class=\"callout-header\"><div class=\"callout-icon-container\"><i class=\"callout-icon\"></i></div><div class=\"callout-title-container flex-fill\">Try It: Plot the change in NDVI spatially</div></div><div class=\"callout-body-container callout-body\"><p>Complete the following:</p>\n",
        "<ul>\n",
        "<li>Select data from 2021 to 2023 (3 years after the <span\n",
        "data-__quarto_custom=\"true\" data-__quarto_custom_type=\"Shortcode\"\n",
        "data-__quarto_custom_context=\"Inline\"\n",
        "data-__quarto_custom_id=\"1\"></span>)</li>\n",
        "<li>Take the temporal mean (over the <strong>date</strong>, not\n",
        "spatially)</li>\n",
        "<li>Get the NDVI variable (should be a DataArray, not a Dataset)</li>\n",
        "<li>Repeat for the data from 2018 to 2020 (3 years before the <span\n",
        "data-__quarto_custom=\"true\" data-__quarto_custom_type=\"Shortcode\"\n",
        "data-__quarto_custom_context=\"Inline\"\n",
        "data-__quarto_custom_id=\"2\"></span>)</li>\n",
        "<li>Subtract the 2018-2020 time period <strong>from</strong> the\n",
        "2021-2023 time period</li>\n",
        "<li>Plot the result using a <strong>diverging</strong> color map like\n",
        "<code>cmap=plt.cm.PiYG</code></li>\n",
        "</ul>\n",
        "<p>There are different types of color maps for different types of data.\n",
        "In this case, we want decreases to be a different color from increases,\n",
        "so we should use a <strong>diverging</strong> color map. Check out\n",
        "available colormaps in the <a\n",
        "href=\"https://matplotlib.org/stable/tutorials/colors/colormaps.html\">matplotlib\n",
        "documentation</a>.</p></div></div>\n",
        "\n",
        "<link rel=\"stylesheet\" type=\"text/css\" href=\"./assets/styles.css\"><div class=\"callout callout-style-default callout-titled callout-extra\"><div class=\"callout-header\"><div class=\"callout-icon-container\"><i class=\"callout-icon\"></i></div><div class=\"callout-title-container flex-fill\">Looking for an Extra Challenge?</div></div><div class=\"callout-body-container callout-body\"><p>For an extra challenge, add the <span data-__quarto_custom=\"true\"\n",
        "data-__quarto_custom_type=\"Shortcode\"\n",
        "data-__quarto_custom_context=\"Inline\"\n",
        "data-__quarto_custom_id=\"3\"></span> boundary to the plot.</p></div></div>"
      ],
      "id": "76754203-c811-405e-b753-da2a8d2cf243"
    },
    {
      "cell_type": "code",
      "execution_count": 3,
      "metadata": {
        "template": "student"
      },
      "outputs": [],
      "source": [
        "# Compute the difference in NDVI before and after\n",
        "\n",
        "# Plot the difference\n",
        "(\n",
        "    ndvi_diff.hvplot(x='', y='', cmap='', geo=True)\n",
        "    *\n",
        "    gdf.hvplot(geo=True, fill_color=None, line_color='black')\n",
        ")"
      ],
      "id": "1b908d92"
    },
    {
      "cell_type": "markdown",
      "metadata": {},
      "source": [
        "# STEP -1: Wrap up\n",
        "\n",
        "Don’t forget to store your variables so you can use them in other\n",
        "notebooks! Replace `var1` and `var2` with the variable you want to save,\n",
        "separated by spaces."
      ],
      "id": "c50af62c-260e-4368-a4a6-718784d3585e"
    },
    {
      "cell_type": "code",
      "execution_count": 5,
      "metadata": {},
      "outputs": [],
      "source": [
        "%store var1 var2"
      ],
      "id": "56d4be06"
    },
    {
      "cell_type": "markdown",
      "metadata": {},
      "source": [
        "Finally, be sure to `Restart` and `Run all` to make sure your notebook\n",
        "works all the way through!"
      ],
      "id": "c78459bb-8249-4fca-a69a-9e4ed7750667"
    }
  ],
  "nbformat": 4,
  "nbformat_minor": 5,
  "metadata": {
    "kernelspec": {
      "name": "learning-portal",
      "display_name": "Learning Portal",
      "language": "python"
    },
    "language_info": {
      "name": "python",
      "codemirror_mode": {
        "name": "ipython",
        "version": "3"
      },
      "file_extension": ".py",
      "mimetype": "text/x-python",
      "nbconvert_exporter": "python",
      "pygments_lexer": "ipython3",
      "version": "3.10.17"
    }
  }
}