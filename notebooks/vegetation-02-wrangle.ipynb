{
  "cells": [
    {
      "cell_type": "markdown",
      "metadata": {},
      "source": [
        "# \n",
        "\n",
        "title: Water Rights Restored to the Gila River\n",
        "\n",
        "subtitle: The impacts of irrigation on vegetation health in the Gila\n",
        "River Valley\n",
        "\n",
        "author:\n",
        "\n",
        "-   Elsa Culler\n",
        "\n",
        "-   Nate Quarderer\n",
        "\n",
        "date: last-modified\n",
        "\n",
        "image: /img/earth-analytics/water-rights/lesson-water-rights.png\n",
        "\n",
        "image-alt: “Dry river with dead plants turns into a stream with living\n",
        "plants”\n",
        "\n",
        "description: \\|\n",
        "\n",
        "In 2004, the Akimel O’‘otham and Tohono O’’odham tribes won a water\n",
        "rights settlement in the US Supreme Court. Using satellite imagery, we\n",
        "can see the effects of irrigation water on the local vegetation.\n",
        "\n",
        "learning-goals:\n",
        "\n",
        "-   Open raster or image data using code\n",
        "\n",
        "-   Combine raster data and vector data to crop images to an area of\n",
        "    interest\n",
        "\n",
        "-   Summarize raster values with stastics\n",
        "\n",
        "-   Analyze a time-series of raster images\n",
        "\n",
        "params:\n",
        "\n",
        "id: stars\n",
        "\n",
        "site_name: Gila River Indian Community\n",
        "\n",
        "event: water rights case\n",
        "\n",
        "data_dir: gila-river\n",
        "\n",
        "jupyter:\n",
        "\n",
        "kernelspec:\n",
        "\n",
        "    name: learning-portal\n",
        "\n",
        "    language: python\n",
        "\n",
        "    display_name: Learning Portal\n",
        "\n",
        "# STEP 2: Wrangle Raster Data\n",
        "\n",
        "# STEP 0: Set up\n",
        "\n",
        "To get started on this notebook, you’ll need to restore any variables\n",
        "from previous notebooks to your workspace. To save time and memory, make\n",
        "sure to specify which variables you want to load."
      ],
      "id": "56da88c1-fe09-40b7-986b-d33af90b03d5"
    },
    {
      "cell_type": "code",
      "execution_count": 1,
      "metadata": {},
      "outputs": [],
      "source": [
        "%store -r"
      ],
      "id": "948216ca"
    },
    {
      "cell_type": "markdown",
      "metadata": {},
      "source": [
        "You will also need to import any libraries you are using in this\n",
        "notebook, since they won’t carry over from the previous notebook:"
      ],
      "id": "517770a5-f2ac-4079-bc66-5a37e8df0c17"
    },
    {
      "cell_type": "code",
      "execution_count": 2,
      "metadata": {},
      "outputs": [],
      "source": [
        "# Import libraries"
      ],
      "id": "e45e0de7"
    },
    {
      "cell_type": "markdown",
      "metadata": {},
      "source": [
        "## Load in NDVI data\n",
        "\n",
        "Now you need to load all the downloaded files into Python. Let’s start\n",
        "by getting all the file names. You will also need to extract the date\n",
        "from the filename. Check out [the lesson on getting information from\n",
        "filenames in the\n",
        "textbook](https://www.earthdatascience.org/courses/intro-to-earth-data-science/write-efficient-python-code/loops/data-workflows-with-loops/).\n",
        "\n",
        "In this lesson, you will use the `glob.glob()` function in Python to\n",
        "find all files that match a **pattern** formed with the **wildcard**\n",
        "character `*`. The wildcard can represent any string of alphanumberic\n",
        "characters. For example, the pattern `'file_*.tif'` will match the files\n",
        "`'file_1.tif'`, `'file_2.tiv'`, or even\n",
        "`'file_qeoiurghtfoqaegbn34pf.tif'`… but it will not match\n",
        "`'something-else.csv'` or even `'something-else.tif'`.\n",
        "\n",
        "In this notebook, we’ll use the `.rglob()`, or **recursive** glob method\n",
        "of the Path object instead. It works similarly, but you’ll notice that\n",
        "we have to convert the results to a list with the `list()` function.\n",
        "\n",
        "> **GOTCHA ALERT!**\n",
        ">\n",
        "> `glob` doesn’t necessarily find files in the order you would expect.\n",
        "> Make sure to **sort** your file names like it says in the textbook.\n",
        "\n",
        "<link rel=\"stylesheet\" type=\"text/css\" href=\"./assets/styles.css\"><div class=\"callout callout-style-default callout-titled callout-respond\"><div class=\"callout-header\"><div class=\"callout-icon-container\"><i class=\"callout-icon\"></i></div><div class=\"callout-title-container flex-fill\">Reflect and Respond</div></div><div class=\"callout-body-container callout-body\"><p>Take a look at the file names for the NDVI files. What do you notice\n",
        "is the same for all the files? Keep in mind that you only want the NDVI\n",
        "files, not the Quality files (which will flag potential incorrect\n",
        "measurements).</p></div></div>"
      ],
      "id": "93d0192b-5790-4c9f-8a16-40bf20e79a82"
    },
    {
      "cell_type": "markdown",
      "metadata": {},
      "source": [
        "YOUR ANSWER HERE"
      ],
      "id": "bdb37cd1-d09e-4710-ad5f-8fb1999c2c5c"
    },
    {
      "cell_type": "markdown",
      "metadata": {},
      "source": [
        "<link rel=\"stylesheet\" type=\"text/css\" href=\"./assets/styles.css\"><div class=\"callout callout-style-default callout-titled callout-task\"><div class=\"callout-header\"><div class=\"callout-icon-container\"><i class=\"callout-icon\"></i></div><div class=\"callout-title-container flex-fill\">Try It</div></div><div class=\"callout-body-container callout-body\"><ol type=\"1\">\n",
        "<li>Create a <strong>pattern</strong> for the files you want to import.\n",
        "Your pattern should include the parts of the file names that are the\n",
        "same for all files, and replace the rest with the <code>*</code>\n",
        "character. Make sure to match the NDVI files, but not the Quality\n",
        "files!</li>\n",
        "<li>Replace <code>ndvi-pattern</code> with your pattern</li>\n",
        "<li>Run the code and make sure that you are getting all the files you\n",
        "want and none of the files you don’t!</li>\n",
        "</ol></div></div>"
      ],
      "id": "d209a0ba-80ca-4841-b637-0da87a9a2e90"
    },
    {
      "cell_type": "code",
      "execution_count": 3,
      "metadata": {
        "template": "student"
      },
      "outputs": [],
      "source": [
        "# Get a sorted list of NDVI tif file paths\n",
        "ndvi_paths = sorted(list(project.project_dir.rglob('ndvi-pattern')))\n",
        "\n",
        "# Display the first and last three files paths to check the pattern\n",
        "ndvi_paths[:3], ndvi_paths[-3:]"
      ],
      "id": "1aef5e4e"
    },
    {
      "cell_type": "markdown",
      "metadata": {},
      "source": [
        "## Repeating tasks in Python\n",
        "\n",
        "Now you should have a few dozen files! For each file, you need to:\n",
        "\n",
        "-   Load the file in using the `rioxarray` library\n",
        "-   Get the date from the file name\n",
        "-   Add the date as a dimension coordinate\n",
        "-   Give your data variable a name\n",
        "\n",
        "You don’t want to write out the code for each file! That’s a recipe for\n",
        "copy pasta. Luckily, Python has tools for doing similar tasks\n",
        "repeatedly. In this case, you’ll use one called a `for` loop.\n",
        "\n",
        "There’s some code below that uses a `for` loop in what is called an\n",
        "**accumulation pattern** to process each file. That means that you will\n",
        "save the results of your processing to a list each time you process the\n",
        "files, and then merge all the arrays in the list.\n",
        "\n",
        "<link rel=\"stylesheet\" type=\"text/css\" href=\"./assets/styles.css\"><div class=\"callout callout-style-default callout-titled callout-task\"><div class=\"callout-header\"><div class=\"callout-icon-container\"><i class=\"callout-icon\"></i></div><div class=\"callout-title-container flex-fill\">Try It</div></div><div class=\"callout-body-container callout-body\"><ul>\n",
        "<li>Look at the file names. How many characters from the end is the\n",
        "date? <code>doy_start</code> and <code>doy_end</code> are used to\n",
        "extract the day of the year (doy) from the file name. You will need to\n",
        "count characters from the end and change the values to get the right\n",
        "part of the file name. HINT: the index -1 in Python means the last\n",
        "value, -2 second-to-last, and so on.</li>\n",
        "<li>Replace any required variable names with your chosen variable\n",
        "names</li>\n",
        "</ul></div></div>"
      ],
      "id": "c23f25de-e45c-4656-87c5-85edb7c8828e"
    },
    {
      "cell_type": "code",
      "execution_count": 5,
      "metadata": {
        "template": "student"
      },
      "outputs": [],
      "source": [
        "doy_start = -1\n",
        "doy_end = -1\n",
        "\n",
        "# Loop through each NDVI image\n",
        "ndvi_das = []\n",
        "for ndvi_path in ndvi_paths:\n",
        "    # Get date from file name\n",
        "\n",
        "    # Open dataset\n",
        "\n",
        "    # Add date dimension and clean up metadata\n",
        "    da = da.assign_coords({'date': date})\n",
        "    da = da.expand_dims({'date': 1})\n",
        "    da.name = 'NDVI'\n",
        "\n",
        "    # Prepare for concatenation"
      ],
      "id": "10f3f49f"
    },
    {
      "cell_type": "markdown",
      "metadata": {},
      "source": [
        "## Combine Rasters\n",
        "\n",
        "Next, stack your arrays by date into a time series using the\n",
        "`xr.combine_by_coords()` function. You will have to tell it which\n",
        "dimension you want to stack your data in."
      ],
      "id": "fc5f26c9-7380-4467-ac6a-78bda868d546"
    },
    {
      "cell_type": "code",
      "execution_count": 7,
      "metadata": {
        "template": "student"
      },
      "outputs": [],
      "source": [
        "# Combine NDVI images from all dates"
      ],
      "id": "7d905cfa"
    },
    {
      "cell_type": "markdown",
      "metadata": {},
      "source": [
        "# STEP -1: Wrap up\n",
        "\n",
        "Don’t forget to store your variables so you can use them in other\n",
        "notebooks! Replace `var1` and `var2` with the variable you want to save,\n",
        "separated by spaces."
      ],
      "id": "735715e1-79cc-4be8-a9f4-f293117d7bb0"
    },
    {
      "cell_type": "code",
      "execution_count": 9,
      "metadata": {},
      "outputs": [],
      "source": [
        "%store var1 var2"
      ],
      "id": "1a13c06a"
    },
    {
      "cell_type": "markdown",
      "metadata": {},
      "source": [
        "Finally, be sure to `Restart` and `Run all` to make sure your notebook\n",
        "works all the way through!"
      ],
      "id": "f2a39e4a-ce60-4a36-ac6e-284aa908f6d8"
    }
  ],
  "nbformat": 4,
  "nbformat_minor": 5,
  "metadata": {
    "kernelspec": {
      "name": "learning-portal",
      "display_name": "Learning Portal",
      "language": "python"
    },
    "language_info": {
      "name": "python",
      "codemirror_mode": {
        "name": "ipython",
        "version": "3"
      },
      "file_extension": ".py",
      "mimetype": "text/x-python",
      "nbconvert_exporter": "python",
      "pygments_lexer": "ipython3",
      "version": "3.10.17"
    }
  }
}