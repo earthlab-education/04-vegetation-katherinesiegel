{
  "cells": [
    {
      "cell_type": "markdown",
      "metadata": {},
      "source": [
        "# \n",
        "\n",
        "title: Water Rights Restored to the Gila River\n",
        "\n",
        "subtitle: The impacts of irrigation on vegetation health in the Gila\n",
        "River Valley\n",
        "\n",
        "author:\n",
        "\n",
        "-   Elsa Culler\n",
        "\n",
        "-   Nate Quarderer\n",
        "\n",
        "date: last-modified\n",
        "\n",
        "image: /img/earth-analytics/water-rights/lesson-water-rights.png\n",
        "\n",
        "image-alt: “Dry river with dead plants turns into a stream with living\n",
        "plants”\n",
        "\n",
        "description: \\|\n",
        "\n",
        "In 2004, the Akimel O’‘otham and Tohono O’’odham tribes won a water\n",
        "rights settlement in the US Supreme Court. Using satellite imagery, we\n",
        "can see the effects of irrigation water on the local vegetation.\n",
        "\n",
        "learning-goals:\n",
        "\n",
        "-   Open raster or image data using code\n",
        "\n",
        "-   Combine raster data and vector data to crop images to an area of\n",
        "    interest\n",
        "\n",
        "-   Summarize raster values with stastics\n",
        "\n",
        "-   Analyze a time-series of raster images\n",
        "\n",
        "params:\n",
        "\n",
        "id: stars\n",
        "\n",
        "site_name: Gila River Indian Community\n",
        "\n",
        "event: water rights case\n",
        "\n",
        "data_dir: gila-river\n",
        "\n",
        "jupyter:\n",
        "\n",
        "kernelspec:\n",
        "\n",
        "    name: learning-portal\n",
        "\n",
        "    language: python\n",
        "\n",
        "    display_name: Learning Portal\n",
        "\n",
        "# STEP 0: Set up\n",
        "\n",
        "To get started on this notebook, you’ll need to restore any variables\n",
        "from previous notebooks to your workspace. To save time and memory, make\n",
        "sure to specify which variables you want to load."
      ],
      "id": "310d410e-b75c-402b-a3ff-9abe86b55218"
    },
    {
      "cell_type": "code",
      "execution_count": 1,
      "metadata": {},
      "outputs": [],
      "source": [
        "%store -r"
      ],
      "id": "1b9d88bc"
    },
    {
      "cell_type": "markdown",
      "metadata": {},
      "source": [
        "You will also need to import any libraries you are using in this\n",
        "notebook, since they won’t carry over from the previous notebook:"
      ],
      "id": "7ebd73ad-c798-497f-8326-7102d6524f2a"
    },
    {
      "cell_type": "code",
      "execution_count": 2,
      "metadata": {},
      "outputs": [],
      "source": [
        "# Import libraries"
      ],
      "id": "b2f26ca3"
    },
    {
      "cell_type": "markdown",
      "metadata": {},
      "source": [
        "# STEP 4: Is the NDVI different within the **?meta:params.site_name** after the **?meta:params.event**?\n",
        "\n",
        "You will compute the mean NDVI inside and outside the fire boundary.\n",
        "First, use the code below to get a `GeoDataFrame` of the area outside\n",
        "the Reservation.\n",
        "\n",
        "<link rel=\"stylesheet\" type=\"text/css\" href=\"./assets/styles.css\"><div class=\"callout callout-style-default callout-titled callout-task\"><div class=\"callout-header\"><div class=\"callout-icon-container\"><i class=\"callout-icon\"></i></div><div class=\"callout-title-container flex-fill\">Try It</div></div><div class=\"callout-body-container callout-body\"><ol type=\"1\">\n",
        "<li>Check the variable names - Make sure that the code uses your\n",
        "boundary <code>GeoDataFrame</code></li>\n",
        "<li>How could you test if the geometry was modified correctly? Add some\n",
        "code to take a look at the results.</li>\n",
        "</ol></div></div>"
      ],
      "id": "b7c1749a-8c66-40b1-acfb-7527846d4b5e"
    },
    {
      "cell_type": "code",
      "execution_count": 3,
      "metadata": {
        "template": "student"
      },
      "outputs": [],
      "source": [
        "# Compute the area outside the fire boundary"
      ],
      "id": "e74a8f92"
    },
    {
      "cell_type": "markdown",
      "metadata": {},
      "source": [
        "Next, clip your DataArray to the boundaries for both inside and outside\n",
        "the reservation. You will need to replace the `GeoDataFrame` name with\n",
        "your own. Check out the [lesson on clipping data with the `rioxarray`\n",
        "library in the\n",
        "textbook](https://www.earthdatascience.org/courses/use-data-open-source-python/intro-raster-data-python/raster-data-processing/crop-raster-data-with-shapefile-in-python/).\n",
        "\n",
        "> **GOTCHA ALERT**\n",
        ">\n",
        "> It’s important to use `from_disk=True` when clipping large arrays like\n",
        "> this. It allows the computer to use less valuable memory resources\n",
        "> when clipping - you will probably find that otherwise the cell below\n",
        "> crashes your kernel."
      ],
      "id": "56a8f725-ce7f-49c3-8601-e688484d1624"
    },
    {
      "cell_type": "code",
      "execution_count": 5,
      "metadata": {
        "template": "student"
      },
      "outputs": [],
      "source": [
        "# Clip data to both inside and outside the boundary"
      ],
      "id": "48eca439"
    },
    {
      "cell_type": "markdown",
      "metadata": {},
      "source": [
        "<link rel=\"stylesheet\" type=\"text/css\" href=\"./assets/styles.css\"><div class=\"callout callout-style-default callout-titled callout-task\"><div class=\"callout-header\"><div class=\"callout-icon-container\"><i class=\"callout-icon\"></i></div><div class=\"callout-title-container flex-fill\">Try It</div></div><div class=\"callout-body-container callout-body\"><p>For <strong>both inside and outside</strong> the <span\n",
        "data-__quarto_custom=\"true\" data-__quarto_custom_type=\"Shortcode\"\n",
        "data-__quarto_custom_context=\"Inline\"\n",
        "data-__quarto_custom_id=\"3\"></span> boundary:</p>\n",
        "<ul>\n",
        "<li>Group the data by year</li>\n",
        "<li>Take the mean. You always need to tell reducing methods in\n",
        "<code>xarray</code> what dimensions you want to reduce. When you want to\n",
        "summarize data across <strong>all</strong> dimensions, you can use the\n",
        "<code>...</code> syntax, e.g. <code>.mean(...)</code> as a\n",
        "shorthand.</li>\n",
        "<li>Select the NDVI variable</li>\n",
        "<li>Convert to a DataFrame using the <code>to_dataframe()</code>\n",
        "method</li>\n",
        "<li>Join the two DataFrames for plotting using the <code>.join()</code>\n",
        "method. You will need to rename the columns using the\n",
        "<code>lsuffix=</code> and <code>rsuffix=</code> parameters</li>\n",
        "</ul>\n",
        "<p>Finally, plot annual July means for both inside and outside the\n",
        "Reservation on the same plot.</p></div></div>\n",
        "\n",
        "> **GOTCHA ALERT**\n",
        ">\n",
        "> The DateIndex in pandas is a little different from the Datetime\n",
        "> Dimension in xarray. You will need to use the `.dt.year` syntax to\n",
        "> access information about the year, not just `.year`."
      ],
      "id": "f250d261-b233-4787-bcbe-ba2673acc64d"
    },
    {
      "cell_type": "code",
      "execution_count": 7,
      "metadata": {
        "template": "student"
      },
      "outputs": [],
      "source": [
        "# Compute mean annual July NDVI"
      ],
      "id": "b53fab09"
    },
    {
      "cell_type": "markdown",
      "metadata": {},
      "source": [
        "Now, take the difference between outside and inside the site boundary\n",
        "and plot that. What do you observe? Don’t forget to write a headline and\n",
        "description of your plot!"
      ],
      "id": "bd2b036e-6b1e-4a88-a7b3-d275a0b8de27"
    },
    {
      "cell_type": "code",
      "execution_count": 9,
      "metadata": {
        "template": "student"
      },
      "outputs": [],
      "source": [
        "# Plot difference inside and outside the boundary"
      ],
      "id": "76cba6a2"
    },
    {
      "cell_type": "markdown",
      "metadata": {},
      "source": [
        "YOUR HEADLINE AND DESCRIPTION HERE"
      ],
      "id": "2e616784-e97a-4f4c-9405-daa3a3645715"
    },
    {
      "cell_type": "markdown",
      "metadata": {},
      "source": [
        "# STEP -1: Wrap up\n",
        "\n",
        "Don’t forget to store your variables so you can use them in other\n",
        "notebooks! Replace `var1` and `var2` with the variable you want to save,\n",
        "separated by spaces."
      ],
      "id": "099f9984-a509-4e3b-982a-05c831a807f6"
    },
    {
      "cell_type": "code",
      "execution_count": 11,
      "metadata": {},
      "outputs": [],
      "source": [
        "%store var1 var2"
      ],
      "id": "67fbb231"
    },
    {
      "cell_type": "markdown",
      "metadata": {},
      "source": [
        "Finally, be sure to `Restart` and `Run all` to make sure your notebook\n",
        "works all the way through!"
      ],
      "id": "e2423477-b88d-40b4-a057-7fa6ca46ba76"
    }
  ],
  "nbformat": 4,
  "nbformat_minor": 5,
  "metadata": {
    "kernelspec": {
      "name": "learning-portal",
      "display_name": "Learning Portal",
      "language": "python"
    },
    "language_info": {
      "name": "python",
      "codemirror_mode": {
        "name": "ipython",
        "version": "3"
      },
      "file_extension": ".py",
      "mimetype": "text/x-python",
      "nbconvert_exporter": "python",
      "pygments_lexer": "ipython3",
      "version": "3.10.17"
    }
  }
}