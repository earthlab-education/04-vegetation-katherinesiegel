{
  "cells": [
    {
      "cell_type": "markdown",
      "metadata": {},
      "source": [
        "# \n",
        "\n",
        "title: Water Rights Restored to the Gila River\n",
        "\n",
        "subtitle: The impacts of irrigation on vegetation health in the Gila\n",
        "River Valley\n",
        "\n",
        "author:\n",
        "\n",
        "-   Elsa Culler\n",
        "\n",
        "-   Nate Quarderer\n",
        "\n",
        "date: last-modified\n",
        "\n",
        "image: /img/earth-analytics/water-rights/lesson-water-rights.png\n",
        "\n",
        "image-alt: “Dry river with dead plants turns into a stream with living\n",
        "plants”\n",
        "\n",
        "description: \\|\n",
        "\n",
        "In 2004, the Akimel O’‘otham and Tohono O’’odham tribes won a water\n",
        "rights settlement in the US Supreme Court. Using satellite imagery, we\n",
        "can see the effects of irrigation water on the local vegetation.\n",
        "\n",
        "learning-goals:\n",
        "\n",
        "-   Open raster or image data using code\n",
        "\n",
        "-   Combine raster data and vector data to crop images to an area of\n",
        "    interest\n",
        "\n",
        "-   Summarize raster values with stastics\n",
        "\n",
        "-   Analyze a time-series of raster images\n",
        "\n",
        "params:\n",
        "\n",
        "id: stars\n",
        "\n",
        "site_name: Gila River Indian Community\n",
        "\n",
        "event: water rights case\n",
        "\n",
        "data_dir: gila-river\n",
        "\n",
        "jupyter:\n",
        "\n",
        "kernelspec:\n",
        "\n",
        "    name: learning-portal\n",
        "\n",
        "    language: python\n",
        "\n",
        "    display_name: Learning Portal\n",
        "\n",
        "# STEP 1: Site map\n",
        "\n",
        "We’ll need some Python libraries to complete this workflow.\n",
        "\n",
        "<link rel=\"stylesheet\" type=\"text/css\" href=\"./assets/styles.css\"><div class=\"callout callout-style-default callout-titled callout-task\"><div class=\"callout-header\"><div class=\"callout-icon-container\"><i class=\"callout-icon\"></i></div><div class=\"callout-title-container flex-fill\">Try It: Import necessary libraries</div></div><div class=\"callout-body-container callout-body\"><p>In the cell below, making sure to keep the packages in order, add\n",
        "packages for:</p>\n",
        "<ul>\n",
        "<li>Working with DataFrames</li>\n",
        "<li>Working with GeoDataFrames</li>\n",
        "<li>Making interactive plots of tabular and vector data</li>\n",
        "</ul></div></div>\n",
        "\n",
        "<link rel=\"stylesheet\" type=\"text/css\" href=\"./assets/styles.css\"><div class=\"callout callout-style-default callout-titled callout-respond\"><div class=\"callout-header\"><div class=\"callout-icon-container\"><i class=\"callout-icon\"></i></div><div class=\"callout-title-container flex-fill\">Reflect and Respond</div></div><div class=\"callout-body-container callout-body\"><p>What are we using the rest of these packages for? See if you can\n",
        "figure it out as you complete the notebook.</p></div></div>"
      ],
      "id": "955f488a-5572-4ae4-8f32-1fc69a4a8d24"
    },
    {
      "cell_type": "code",
      "execution_count": 1,
      "metadata": {
        "template": "student"
      },
      "outputs": [],
      "source": [
        "import json\n",
        "import os\n",
        "import pathlib\n",
        "\n",
        "import hvplot.xarray\n",
        "import rioxarray as rxr\n",
        "import xarray as xr"
      ],
      "id": "045401e8"
    },
    {
      "cell_type": "markdown",
      "metadata": {},
      "source": [
        "We have one more setup task. We’re not going to be able to load all our\n",
        "data directly from the web to Python this time. That means we need to\n",
        "set up a place for it.\n",
        "\n",
        "> **GOTCHA ALERT!**\n",
        ">\n",
        "> A lot of times in Python we say “directory” to mean a “folder” on your\n",
        "> computer. The two words mean the same thing in this context.\n",
        "\n",
        "<link rel=\"stylesheet\" type=\"text/css\" href=\"./assets/styles.css\"><div class=\"callout callout-style-default callout-titled callout-task\"><div class=\"callout-header\"><div class=\"callout-icon-container\"><i class=\"callout-icon\"></i></div><div class=\"callout-title-container flex-fill\">Try It</div></div><div class=\"callout-body-container callout-body\"><p>In the cell below, replace ‘my-data-folder’ with a\n",
        "<strong>descriptive</strong> directory name.</p></div></div>"
      ],
      "id": "660460a7-f89f-4a85-ab60-b78b84789347"
    },
    {
      "cell_type": "code",
      "execution_count": 3,
      "metadata": {
        "template": "student"
      },
      "outputs": [],
      "source": [
        "project = earthpy.Project(\"Gila River Vegetation\", dirname='my-data-folder')\n",
        "project.get_data()"
      ],
      "id": "3fbfc06a"
    },
    {
      "cell_type": "markdown",
      "metadata": {},
      "source": [
        "# STEP 0: Set up\n",
        "\n",
        "To get started on this notebook, you’ll need to restore any variables\n",
        "from previous notebooks to your workspace. To save time and memory, make\n",
        "sure to specify which variables you want to load."
      ],
      "id": "8622ce72-e2f4-4503-bb46-f50de49e2f93"
    },
    {
      "cell_type": "code",
      "execution_count": 5,
      "metadata": {},
      "outputs": [],
      "source": [
        "%store -r"
      ],
      "id": "9978721a"
    },
    {
      "cell_type": "markdown",
      "metadata": {},
      "source": [
        "You will also need to import any libraries you are using in this\n",
        "notebook, since they won’t carry over from the previous notebook:"
      ],
      "id": "8e238d8f-08c8-4acc-a1c6-ce7b2af7da73"
    },
    {
      "cell_type": "code",
      "execution_count": 6,
      "metadata": {},
      "outputs": [],
      "source": [
        "# Import libraries"
      ],
      "id": "c43868a7"
    },
    {
      "cell_type": "markdown",
      "metadata": {},
      "source": [
        "## Study Area: **?meta:params.site_name**\n",
        "\n",
        "### Earth Data Science data formats\n",
        "\n",
        "In Earth Data Science, we get data in three main formats:\n",
        "\n",
        "| Data type | Descriptions | Common file formats | Python type |\n",
        "|------------------|------------------|------------------|------------------|\n",
        "| Time Series | The same data points (e.g. streamflow) collected multiple times over time | Tabular formats (e.g. .csv, or .xlsx) | pandas DataFrame |\n",
        "| Vector | Points, lines, and areas (with coordinates) | Shapefile (often an archive like a `.zip` file because a Shapefile is actually a collection of at least 3 files) | geopandas GeoDataFrame |\n",
        "| Raster | Evenly spaced spatial grid (with coordinates) | GeoTIFF (`.tif`), NetCDF (`.nc`), HDF (`.hdf`) | rioxarray DataArray |\n",
        "\n",
        "<link rel=\"stylesheet\" type=\"text/css\" href=\"./assets/styles.css\"><div class=\"callout callout-style-default callout-titled callout-read\"><div class=\"callout-header\"><div class=\"callout-icon-container\"><i class=\"callout-icon\"></i></div><div class=\"callout-title-container flex-fill\">Read More</div></div><div class=\"callout-body-container callout-body\"><p>Check out the sections about about <a\n",
        "href=\"https://www.earthdatascience.org/courses/use-data-open-source-python/intro-vector-data-python/spatial-data-vector-shapefiles/\">vector\n",
        "data</a> and <a\n",
        "href=\"https://www.earthdatascience.org/courses/intro-to-earth-data-science/file-formats/use-spatial-data/use-raster-data/\">raster\n",
        "data</a> in the textbook.</p></div></div>\n",
        "\n",
        "<link rel=\"stylesheet\" type=\"text/css\" href=\"./assets/styles.css\"><div class=\"callout callout-style-default callout-titled callout-respond\"><div class=\"callout-header\"><div class=\"callout-icon-container\"><i class=\"callout-icon\"></i></div><div class=\"callout-title-container flex-fill\">Reflect and Respond</div></div><div class=\"callout-body-container callout-body\"><p>For this coding challenge, we are interested in the boundary of the\n",
        "<span data-__quarto_custom=\"true\" data-__quarto_custom_type=\"Shortcode\"\n",
        "data-__quarto_custom_context=\"Inline\"\n",
        "data-__quarto_custom_id=\"2\"></span>, and the health of vegetation in the\n",
        "area measured on a scale from -1 to 1. In the cell below, answer the\n",
        "following question: <strong>What data type do you think the boundary\n",
        "will be? What about the vegetation health?</strong></p></div></div>"
      ],
      "id": "78c71168-5ee5-4c1a-9ca8-d471646b7595"
    },
    {
      "cell_type": "markdown",
      "metadata": {},
      "source": [
        "YOUR ANSWER HERE"
      ],
      "id": "174bda66-ce5d-4bf0-9c08-b49b6a9d71e8"
    },
    {
      "cell_type": "markdown",
      "metadata": {},
      "source": [
        "### Load the **?meta:params.site_name** boundary\n",
        "\n",
        "<link rel=\"stylesheet\" type=\"text/css\" href=\"./assets/styles.css\"><div class=\"callout callout-style-default callout-titled callout-task\"><div class=\"callout-header\"><div class=\"callout-icon-container\"><i class=\"callout-icon\"></i></div><div class=\"callout-title-container flex-fill\">Try It</div></div><div class=\"callout-body-container callout-body\"><ul>\n",
        "<li>Locate the Tribal Subdivision files in your download directory</li>\n",
        "<li>Change <code>'subdivision-directory'</code> to the actual\n",
        "location</li>\n",
        "<li>Load the data into Python and check that it worked</li>\n",
        "</ul></div></div>"
      ],
      "id": "c0ccac61-5d12-4ed4-8c22-9efa770b5846"
    },
    {
      "cell_type": "code",
      "execution_count": 7,
      "metadata": {
        "template": "student"
      },
      "outputs": [],
      "source": [
        "# Load in the boundary data\n",
        "aitsn_gdf = gpd.read_file(project.project_dir / 'subdivision-directory')\n",
        "# Check that it worked"
      ],
      "id": "96e713dd"
    },
    {
      "cell_type": "markdown",
      "metadata": {},
      "source": [
        "You might notice in this dataset that some of the names are not easily\n",
        "searchable. For example, the Gila River subdivisions are named “District\n",
        "1-7”! So, how do we know what to search for? We recommend making an\n",
        "**interactive** plot of the data so that you can find the information\n",
        "you need, e.g.:"
      ],
      "id": "2cc48409-1a1b-4961-b1c9-51dacf5e31f1"
    },
    {
      "cell_type": "code",
      "execution_count": 9,
      "metadata": {},
      "outputs": [],
      "source": [
        "aitsn_gdf.hvplot(\n",
        "    geo=True, tiles='EsriImagery', \n",
        "    frame_width=500,\n",
        "    legend=False, fill_color=None, edge_color='white',\n",
        "    # This parameter makes all the column values in the dataset visible.\n",
        "    hover_cols='all')"
      ],
      "id": "dcbbd44f"
    },
    {
      "cell_type": "markdown",
      "metadata": {},
      "source": [
        "<link rel=\"stylesheet\" type=\"text/css\" href=\"./assets/styles.css\"><div class=\"callout callout-style-default callout-titled callout-respond\"><div class=\"callout-header\"><div class=\"callout-icon-container\"><i class=\"callout-icon\"></i></div><div class=\"callout-title-container flex-fill\">Reflect and Respond</div></div><div class=\"callout-body-container callout-body\"><p>What column could you use to uniquely identify the subdivisions of\n",
        "the reservation you want to study using this interactive map? What value\n",
        "do you need to use to filter the <code>GeoDataFrame</code>?</p></div></div>"
      ],
      "id": "54e1673f-7680-4c48-b5b2-28644b74c6ba"
    },
    {
      "cell_type": "markdown",
      "metadata": {},
      "source": [
        "YOUR ANSWER HERE"
      ],
      "id": "8eb5e241-4ff0-411a-bf94-20a8ed5bbbf9"
    },
    {
      "cell_type": "markdown",
      "metadata": {},
      "source": [
        "Now that you have the info you need, it’s also a good idea to check the\n",
        "data type. For example, we suggest looking at the `AIANNHCE` column…but\n",
        "is that value some kind of **number** or an **object** like a text\n",
        "string? We can’t tell just by looking, which is where our friend the\n",
        "`.info()` method comes in:"
      ],
      "id": "6fce3723-9e45-4c89-8bbb-de036d9d0a4a"
    },
    {
      "cell_type": "code",
      "execution_count": 10,
      "metadata": {},
      "outputs": [],
      "source": [
        "aitsn_gdf.info()"
      ],
      "id": "c45db925"
    },
    {
      "cell_type": "markdown",
      "metadata": {},
      "source": [
        "<link rel=\"stylesheet\" type=\"text/css\" href=\"./assets/styles.css\"><div class=\"callout callout-style-default callout-titled callout-respond\"><div class=\"callout-header\"><div class=\"callout-icon-container\"><i class=\"callout-icon\"></i></div><div class=\"callout-title-container flex-fill\">Reflect and Respond</div></div><div class=\"callout-body-container callout-body\"><p>What is the data type of the <code>AIANNHCE</code> column? How will\n",
        "that affect your code?</p></div></div>"
      ],
      "id": "7467860d-2ad7-473c-8a6a-5bfa8e0c4935"
    },
    {
      "cell_type": "markdown",
      "metadata": {},
      "source": [
        "YOUR ANSWER HERE"
      ],
      "id": "21759267-f63f-4343-b4c1-ffac908cfd41"
    },
    {
      "cell_type": "markdown",
      "metadata": {},
      "source": [
        "Let’s go ahead and select the Gila River subdivisions, and make a site\n",
        "map.\n",
        "\n",
        "<link rel=\"stylesheet\" type=\"text/css\" href=\"./assets/styles.css\"><div class=\"callout callout-style-default callout-titled callout-task\"><div class=\"callout-header\"><div class=\"callout-icon-container\"><i class=\"callout-icon\"></i></div><div class=\"callout-title-container flex-fill\">Try It</div></div><div class=\"callout-body-container callout-body\"><ol type=\"1\">\n",
        "<li>Replace <code>identifier</code> with the value you found from\n",
        "exploring the interactive map. Make sure that you are using the correct\n",
        "<strong>data type</strong>!</li>\n",
        "<li>Change the plot to have a web tile basemap, and look the way you\n",
        "want it to.</li>\n",
        "</ol></div></div>"
      ],
      "id": "c65400f0-1852-41a9-859f-eb6cd3e2defb"
    },
    {
      "cell_type": "code",
      "execution_count": 11,
      "metadata": {
        "template": "student"
      },
      "outputs": [],
      "source": [
        "# Select and merge the subdivisions you want\n",
        "gdf = aitsn_gdf.loc[aitsn_gdf.AIANNHCE==identifier].dissolve()\n",
        "# Plot the results with web tile images\n",
        "gdf.hvplot()"
      ],
      "id": "f77fa005"
    },
    {
      "cell_type": "code",
      "execution_count": 12,
      "metadata": {
        "template": "answer"
      },
      "outputs": [],
      "source": [
        "# Select and merge the subdivisions you want\n",
        "boundary_gdf = aitsn_gdf.loc[aitsn_gdf.AIANNHCE=='1310'].dissolve()\n",
        "# Plot the results with web tile images\n",
        "boundary_gdf.hvplot(\n",
        "    geo=True, tiles='EsriImagery',\n",
        "    fill_color=None, line_color='black',\n",
        "    title=site_name,\n",
        "    frame_width=500)"
      ],
      "id": "be6c922d"
    },
    {
      "cell_type": "markdown",
      "metadata": {},
      "source": [
        "# STEP -1: Wrap up\n",
        "\n",
        "Don’t forget to store your variables so you can use them in other\n",
        "notebooks! Replace `var1` and `var2` with the variable you want to save,\n",
        "separated by spaces."
      ],
      "id": "496813d1-7efb-4ee7-a72c-9dcd2afe1a90"
    },
    {
      "cell_type": "code",
      "execution_count": 13,
      "metadata": {},
      "outputs": [],
      "source": [
        "%store var1 var2"
      ],
      "id": "64c7ec94"
    },
    {
      "cell_type": "markdown",
      "metadata": {},
      "source": [
        "Finally, be sure to `Restart` and `Run all` to make sure your notebook\n",
        "works all the way through!"
      ],
      "id": "e028f475-dfb8-4e2d-8046-e3e8bfdd724a"
    }
  ],
  "nbformat": 4,
  "nbformat_minor": 5,
  "metadata": {
    "kernelspec": {
      "name": "learning-portal",
      "display_name": "Learning Portal",
      "language": "python"
    },
    "language_info": {
      "name": "python",
      "codemirror_mode": {
        "name": "ipython",
        "version": "3"
      },
      "file_extension": ".py",
      "mimetype": "text/x-python",
      "nbconvert_exporter": "python",
      "pygments_lexer": "ipython3",
      "version": "3.10.17"
    }
  }
}