{
  "cells": [
    {
      "cell_type": "markdown",
      "id": "7b0c332d-4138-4a66-b592-a064cf913dca",
      "metadata": {},
      "source": [
        "# Water Rights Restored to the Gila River\n",
        "\n",
        "The impacts of irrigation on vegetation health in the Gila River Valley\n",
        "\n",
        "Elsa Culler  \n",
        "Nate Quarderer  \n",
        "2025-10-01\n",
        "\n",
        "## Import libraries\n",
        "\n",
        "We’ll need some Python libraries to complete this workflow.\n",
        "\n",
        "<link rel=\"stylesheet\" type=\"text/css\" href=\"./assets/styles.css\"><div class=\"callout callout-style-default callout-titled callout-task\"><div class=\"callout-header\"><div class=\"callout-icon-container\"><i class=\"callout-icon\"></i></div><div class=\"callout-title-container flex-fill\">Try It: Import necessary libraries</div></div><div class=\"callout-body-container callout-body\"><p>In the cell below, making sure to keep the packages in order, add\n",
        "packages for:</p>\n",
        "<ul>\n",
        "<li>Working with DataFrames</li>\n",
        "<li>Working with GeoDataFrames</li>\n",
        "<li>Making interactive plots of tabular and vector data</li>\n",
        "</ul></div></div>\n",
        "\n",
        "<link rel=\"stylesheet\" type=\"text/css\" href=\"./assets/styles.css\"><div class=\"callout callout-style-default callout-titled callout-respond\"><div class=\"callout-header\"><div class=\"callout-icon-container\"><i class=\"callout-icon\"></i></div><div class=\"callout-title-container flex-fill\">Reflect and Respond</div></div><div class=\"callout-body-container callout-body\"><p>What are we using the rest of these packages for? See if you can\n",
        "figure it out as you complete the notebook.</p></div></div>"
      ]
    },
    {
      "cell_type": "code",
      "execution_count": 1,
      "id": "bfbfe378",
      "metadata": {
        "template": "student"
      },
      "outputs": [],
      "source": [
        "import json\n",
        "from glob import glob\n",
        "\n",
        "import earthpy\n",
        "import hvplot.xarray\n",
        "import rioxarray as rxr\n",
        "import xarray as xr"
      ]
    },
    {
      "cell_type": "markdown",
      "id": "269696c9-57aa-4c5d-b564-e7de08ad53f0",
      "metadata": {},
      "source": [
        "## Download sample data\n",
        "\n",
        "In this analysis, you’ll need to download multiple data files to your\n",
        "computer rather than streaming them from the web. You’ll need to set up\n",
        "a folder for the files, and while you’re at it download the sample data\n",
        "there.\n",
        "\n",
        "> **GOTCHA ALERT!**\n",
        ">\n",
        "> A lot of times in Python we say “directory” to mean a “folder” on your\n",
        "> computer. The two words mean the same thing in this context.\n",
        "\n",
        "<link rel=\"stylesheet\" type=\"text/css\" href=\"./assets/styles.css\"><div class=\"callout callout-style-default callout-titled callout-task\"><div class=\"callout-header\"><div class=\"callout-icon-container\"><i class=\"callout-icon\"></i></div><div class=\"callout-title-container flex-fill\">Try It</div></div><div class=\"callout-body-container callout-body\"><p>In the cell below, replace ‘Project Name’ with ‘Gila River Vegetation' and ’my-data-folder’ with a\n",
        "<strong>descriptive</strong> directory name.</p></div></div>"
      ]
    },
    {
      "cell_type": "code",
      "execution_count": 3,
      "id": "5588617a",
      "metadata": {
        "template": "student"
      },
      "outputs": [],
      "source": [
        "project = earthpy.Project(\n",
        "    'Project Name', dirname='my-data-folder')\n",
        "project.get_data()"
      ]
    }
  ],
  "metadata": {
    "kernelspec": {
      "display_name": "Learning Portal",
      "language": "python",
      "name": "learning-portal"
    },
    "language_info": {
      "codemirror_mode": {
        "name": "ipython",
        "version": "3"
      },
      "file_extension": ".py",
      "mimetype": "text/x-python",
      "name": "python",
      "nbconvert_exporter": "python",
      "pygments_lexer": "ipython3",
      "version": "3.11.13"
    }
  },
  "nbformat": 4,
  "nbformat_minor": 5
}
